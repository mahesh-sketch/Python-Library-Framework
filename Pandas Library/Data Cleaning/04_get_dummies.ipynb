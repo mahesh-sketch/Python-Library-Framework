{
 "cells": [
  {
   "cell_type": "markdown",
   "id": "188db80c",
   "metadata": {},
   "source": [
    "A dummy variable is a numerical representation used to encode categorical data.\n",
    "\n",
    "Dummy variables exhibit binary values, exclusively 0 or 1.\n",
    "\n",
    "For some data, each item can only belong to one category. For example, a car can be red or blue, but not both at the same time.\n",
    "\n",
    "However, some data can belong to more than one category. Like a movie that's both action and comedy.\n",
    "\n",
    "In both cases, the point of get_dummies() in Pandas is to change these categories into 0s and 1s. This makes it easier for computer programs to understand and work with the data.\n",
    "\n",
    "In the context of a dummy variable:\n",
    "\n",
    "- The value 1 signifies the existence of a specific category.\n",
    "- The value 0 signifies the non-existence of a particular category.\n",
    "\n",
    "In Pandas, we use the get_dummies() function to transform categorical variables into binary values."
   ]
  },
  {
   "cell_type": "markdown",
   "id": "9672471b",
   "metadata": {},
   "source": [
    "Using get_dummies() on Pandas Series"
   ]
  },
  {
   "cell_type": "code",
   "execution_count": 6,
   "id": "d10ae202",
   "metadata": {},
   "outputs": [
    {
     "name": "stdout",
     "output_type": "stream",
     "text": [
      "   Color   Blue  Green    Red\n",
      "0    Red  False  False   True\n",
      "1  Green  False   True  False\n",
      "2   Blue   True  False  False\n",
      "3  Green  False   True  False\n",
      "4    Red  False  False   True\n"
     ]
    }
   ],
   "source": [
    "import pandas as pd\n",
    "\n",
    "# create a Panda Series\n",
    "data = {'Color': ['Red', 'Green', 'Blue', 'Green', 'Red']}\n",
    "df = pd.DataFrame(data)\n",
    "\n",
    "# using get_dummies on the Series\n",
    "dummies = pd.get_dummies(df['Color'])\n",
    "\n",
    "# concatenating the dummies DataFrame with the original DataFrame\n",
    "df = pd.concat([df,dummies],axis=1)\n",
    "print(df)"
   ]
  }
 ],
 "metadata": {
  "kernelspec": {
   "display_name": "Python 3",
   "language": "python",
   "name": "python3"
  },
  "language_info": {
   "codemirror_mode": {
    "name": "ipython",
    "version": 3
   },
   "file_extension": ".py",
   "mimetype": "text/x-python",
   "name": "python",
   "nbconvert_exporter": "python",
   "pygments_lexer": "ipython3",
   "version": "3.12.2"
  }
 },
 "nbformat": 4,
 "nbformat_minor": 5
}
