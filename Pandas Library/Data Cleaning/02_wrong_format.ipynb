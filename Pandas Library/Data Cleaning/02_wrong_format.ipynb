{
 "cells": [
  {
   "cell_type": "code",
   "execution_count": 1,
   "id": "38c38596",
   "metadata": {},
   "outputs": [],
   "source": [
    "import pandas as pd"
   ]
  },
  {
   "cell_type": "markdown",
   "id": "c5c170a5",
   "metadata": {},
   "source": [
    "Convert Data to Correct Format\n"
   ]
  },
  {
   "cell_type": "code",
   "execution_count": 4,
   "id": "45432bdd",
   "metadata": {},
   "outputs": [
    {
     "name": "stdout",
     "output_type": "stream",
     "text": [
      "26.560000000000002\n"
     ]
    }
   ],
   "source": [
    "data = {\n",
    "    'Country': ['USA', 'Canada', 'Australia', 'Germany', 'Japan'],\n",
    "    'Date': ['2023-07-20', '2023-07-21', '2023-07-22', '2023-07-23', '2023-07-24'],\n",
    "    'Temperature': [25.5, '28.0', 30.2, 22.8, 26.3]\n",
    "}\n",
    "df = pd.DataFrame(data)\n",
    "\n",
    "df['Temperature'] = df['Temperature'].astype(float)\n",
    "\n",
    "# calculate the mean temperature\n",
    "mean_temperature = df['Temperature'].mean()\n",
    "\n",
    "\n",
    "print(mean_temperature)"
   ]
  },
  {
   "cell_type": "markdown",
   "id": "f41f8e27",
   "metadata": {},
   "source": [
    "Handling Mixed Date Formats"
   ]
  },
  {
   "cell_type": "code",
   "execution_count": 5,
   "id": "5dad5253",
   "metadata": {},
   "outputs": [
    {
     "name": "stdout",
     "output_type": "stream",
     "text": [
      "        date\n",
      "0 2022-12-01\n",
      "1 2022-02-01\n",
      "2 2022-03-23\n",
      "3 2022-02-03\n",
      "4 2023-04-03\n",
      "5 2023-09-30\n"
     ]
    }
   ],
   "source": [
    "df = pd.DataFrame({'date': ['2022-12-01', '01/02/2022', '2022-03-23', '03/02/2022', '3 4 2023', '2023.9.30']})\n",
    "\n",
    "df['date']= pd.to_datetime(df['date'],format='mixed',dayfirst=True)\n",
    "print(df)"
   ]
  }
 ],
 "metadata": {
  "kernelspec": {
   "display_name": "Python 3",
   "language": "python",
   "name": "python3"
  },
  "language_info": {
   "codemirror_mode": {
    "name": "ipython",
    "version": 3
   },
   "file_extension": ".py",
   "mimetype": "text/x-python",
   "name": "python",
   "nbconvert_exporter": "python",
   "pygments_lexer": "ipython3",
   "version": "3.12.2"
  }
 },
 "nbformat": 4,
 "nbformat_minor": 5
}
