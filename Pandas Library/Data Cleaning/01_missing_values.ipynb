{
 "cells": [
  {
   "cell_type": "markdown",
   "id": "7919d51f",
   "metadata": {},
   "source": [
    "In Pandas, missing values, often represented as NaN (Not a Number), can cause problems during data processing and analysis. These gaps in data can lead to incorrect analysis and misleading conclusions.\n",
    "\n",
    "Pandas provides a host of functions like dropna(), fillna() and combine_first() to handle missing values."
   ]
  },
  {
   "cell_type": "code",
   "execution_count": 9,
   "id": "42a472dd",
   "metadata": {},
   "outputs": [],
   "source": [
    "import pandas as pd\n",
    "import numpy as np"
   ]
  },
  {
   "cell_type": "markdown",
   "id": "cc69ff0a",
   "metadata": {},
   "source": [
    "Remove Rows Containing Missing Values"
   ]
  },
  {
   "cell_type": "code",
   "execution_count": 12,
   "id": "69462e46",
   "metadata": {},
   "outputs": [
    {
     "name": "stdout",
     "output_type": "stream",
     "text": [
      "Before Droping NA: \n",
      "      A    B    C  D\n",
      "0  1.0  NaN  1.0  1\n",
      "1  2.0  2.0  2.0  2\n",
      "2  NaN  3.0  3.0  3\n",
      "3  4.0  4.0  NaN  4\n",
      "4  5.0  5.0  5.0  5\n",
      "After Droping NA: \n",
      "      A    B    C  D\n",
      "1  2.0  2.0  2.0  2\n",
      "4  5.0  5.0  5.0  5\n"
     ]
    }
   ],
   "source": [
    "data = {\n",
    "    'A': [1, 2, np.nan, 4, 5],\n",
    "    'B': [np.nan, 2, 3, 4, 5],\n",
    "    'C': [1, 2, 3, np.nan, 5],\n",
    "    'D': [1, 2, 3, 4, 5]\n",
    "}\n",
    "df = pd.DataFrame(data)\n",
    "print(\"Before Droping NA: \\n\",df)\n",
    "df.dropna(inplace=True)\n",
    "print(\"After Droping NA: \\n\",df)\n"
   ]
  },
  {
   "cell_type": "markdown",
   "id": "e9d12d23",
   "metadata": {},
   "source": [
    "Replace Missing Values\n"
   ]
  },
  {
   "cell_type": "code",
   "execution_count": 13,
   "id": "d4ca60dc",
   "metadata": {},
   "outputs": [
    {
     "name": "stdout",
     "output_type": "stream",
     "text": [
      "     A    B    C  D\n",
      "0  1.0  0.0  1.0  1\n",
      "1  2.0  2.0  2.0  2\n",
      "2  0.0  3.0  3.0  3\n",
      "3  4.0  4.0  0.0  4\n",
      "4  5.0  5.0  5.0  5\n"
     ]
    }
   ],
   "source": [
    "data = {\n",
    "    'A': [1, 2, np.nan, 4, 5],\n",
    "    'B': [np.nan, 2, 3, 4, 5],\n",
    "    'C': [1, 2, 3, np.nan, 5],\n",
    "    'D': [1, 2, 3, 4, 5]\n",
    "}\n",
    "df = pd.DataFrame(data)\n",
    "\n",
    "# replace missing values with 0\n",
    "df.fillna(value=0,inplace=True)\n",
    "print(df)"
   ]
  },
  {
   "cell_type": "markdown",
   "id": "612187da",
   "metadata": {},
   "source": [
    "Replace Missing Values With Mean, Median and Mode"
   ]
  },
  {
   "cell_type": "code",
   "execution_count": 15,
   "id": "62765f1d",
   "metadata": {},
   "outputs": [
    {
     "name": "stdout",
     "output_type": "stream",
     "text": [
      "     A    B    C  D\n",
      "0  1.0  3.5  1.0  1\n",
      "1  2.0  2.0  2.0  2\n",
      "2  3.0  3.0  3.0  3\n",
      "3  4.0  4.0  1.0  4\n",
      "4  5.0  5.0  5.0  5\n"
     ]
    },
    {
     "name": "stderr",
     "output_type": "stream",
     "text": [
      "C:\\Users\\ASUS\\AppData\\Local\\Temp\\ipykernel_13724\\1249397973.py:10: FutureWarning: A value is trying to be set on a copy of a DataFrame or Series through chained assignment using an inplace method.\n",
      "The behavior will change in pandas 3.0. This inplace method will never work because the intermediate object on which we are setting values always behaves as a copy.\n",
      "\n",
      "For example, when doing 'df[col].method(value, inplace=True)', try using 'df.method({col: value}, inplace=True)' or df[col] = df[col].method(value) instead, to perform the operation inplace on the original object.\n",
      "\n",
      "\n",
      "  df['A'].fillna(value=df['A'].mean(),inplace=True)\n",
      "C:\\Users\\ASUS\\AppData\\Local\\Temp\\ipykernel_13724\\1249397973.py:13: FutureWarning: A value is trying to be set on a copy of a DataFrame or Series through chained assignment using an inplace method.\n",
      "The behavior will change in pandas 3.0. This inplace method will never work because the intermediate object on which we are setting values always behaves as a copy.\n",
      "\n",
      "For example, when doing 'df[col].method(value, inplace=True)', try using 'df.method({col: value}, inplace=True)' or df[col] = df[col].method(value) instead, to perform the operation inplace on the original object.\n",
      "\n",
      "\n",
      "  df['B'].fillna(value=df['B'].median(),inplace=True)\n",
      "C:\\Users\\ASUS\\AppData\\Local\\Temp\\ipykernel_13724\\1249397973.py:16: FutureWarning: A value is trying to be set on a copy of a DataFrame or Series through chained assignment using an inplace method.\n",
      "The behavior will change in pandas 3.0. This inplace method will never work because the intermediate object on which we are setting values always behaves as a copy.\n",
      "\n",
      "For example, when doing 'df[col].method(value, inplace=True)', try using 'df.method({col: value}, inplace=True)' or df[col] = df[col].method(value) instead, to perform the operation inplace on the original object.\n",
      "\n",
      "\n",
      "  df['C'].fillna(value=df['C'].mode()[0],inplace=True)\n"
     ]
    }
   ],
   "source": [
    "data = {\n",
    "    'A': [1, 2, np.nan, 4, 5],\n",
    "    'B': [np.nan, 2, 3, 4, 5],\n",
    "    'C': [1, 2, 3, np.nan, 5],\n",
    "    'D': [1, 2, 3, 4, 5]\n",
    "}\n",
    "df = pd.DataFrame(data)\n",
    "\n",
    "# replace missing values with mean\n",
    "df['A'].fillna(value=df['A'].mean(),inplace=True)\n",
    "\n",
    "# replace missing values with median\n",
    "df['B'].fillna(value=df['B'].median(),inplace=True)\n",
    "\n",
    "# replace missing values with mode\n",
    "df['C'].fillna(value=df['C'].mode()[0],inplace=True)\n",
    "\n",
    "print(df)"
   ]
  }
 ],
 "metadata": {
  "kernelspec": {
   "display_name": "Python 3",
   "language": "python",
   "name": "python3"
  },
  "language_info": {
   "codemirror_mode": {
    "name": "ipython",
    "version": 3
   },
   "file_extension": ".py",
   "mimetype": "text/x-python",
   "name": "python",
   "nbconvert_exporter": "python",
   "pygments_lexer": "ipython3",
   "version": "3.12.2"
  }
 },
 "nbformat": 4,
 "nbformat_minor": 5
}
