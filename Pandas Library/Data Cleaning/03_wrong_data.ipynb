{
 "cells": [
  {
   "cell_type": "code",
   "execution_count": 1,
   "id": "a581fc8c",
   "metadata": {},
   "outputs": [],
   "source": [
    "import pandas as pd"
   ]
  },
  {
   "cell_type": "markdown",
   "id": "7ef0d941",
   "metadata": {},
   "source": [
    "Replace Individual Values\n"
   ]
  },
  {
   "cell_type": "code",
   "execution_count": 2,
   "id": "c62f9e0e",
   "metadata": {},
   "outputs": [
    {
     "name": "stdout",
     "output_type": "stream",
     "text": [
      "      Name  Age Gender  Standard\n",
      "0     John    8      M         3\n",
      "1  Michael    9      M         4\n",
      "2      Tom    7      M        12\n",
      "3     Alex   80      M         3\n",
      "4     Ryan  100      M         5\n"
     ]
    }
   ],
   "source": [
    "data = {\n",
    "    'Name': ['John', 'Michael', 'Tom', 'Alex', 'Ryan'],\n",
    "    'Age': [8, 9, 7, 80, 100],\n",
    "    'Gender': ['M', 'M', 'M', 'F', 'M'],\n",
    "    'Standard': [3, 4, 12, 3, 5]\n",
    "}\n",
    "df = pd.DataFrame(data)\n",
    "\n",
    "# replace F with M\n",
    "df.loc[3,'Gender'] = 'M'\n",
    "print(df)"
   ]
  },
  {
   "cell_type": "markdown",
   "id": "f69214ea",
   "metadata": {},
   "source": [
    "Replace Values Based on a Condition\n"
   ]
  },
  {
   "cell_type": "code",
   "execution_count": null,
   "id": "2c3988eb",
   "metadata": {},
   "outputs": [
    {
     "name": "stdout",
     "output_type": "stream",
     "text": [
      "      Name  Age Gender  Standard\n",
      "0     John    8      M         3\n",
      "1  Michael    9      M         4\n",
      "2      Tom    7      M        12\n",
      "3     Alex    8      M         3\n",
      "4     Ryan   10      M         5\n"
     ]
    }
   ],
   "source": [
    "data = {\n",
    "    'Name': ['John', 'Michael', 'Tom', 'Alex', 'Ryan'],\n",
    "    'Age': [8, 9, 7, 80, 100],\n",
    "    'Gender': ['M', 'M', 'M', 'M', 'M'],\n",
    "    'Standard': [3, 4, 12, 3, 5]\n",
    "}\n",
    "df = pd.DataFrame(data)\n",
    "\n",
    "for i in df.index:\n",
    "    age_val = df.loc[i,'Age']\n",
    "    if (age_val > 14) and (age_val%10 == 0):\n",
    "        df.loc[i,'Age'] = age_val / 10\n",
    "\n",
    "print(df)\n"
   ]
  },
  {
   "cell_type": "markdown",
   "id": "1d2d6b31",
   "metadata": {},
   "source": [
    "Remove Wrong Values\n"
   ]
  },
  {
   "cell_type": "code",
   "execution_count": 4,
   "id": "013449b3",
   "metadata": {},
   "outputs": [
    {
     "name": "stdout",
     "output_type": "stream",
     "text": [
      "      Name  Age Gender  Standard\n",
      "0     John    8      M         3\n",
      "1  Michael    9      M         4\n",
      "3     Alex    8      M         3\n",
      "4     Ryan   10      M         5\n"
     ]
    }
   ],
   "source": [
    "for i in df.index:\n",
    "    if df.loc[i,'Standard'] > 8:\n",
    "        df.drop(i,inplace=True)\n",
    "        \n",
    "print(df)"
   ]
  }
 ],
 "metadata": {
  "kernelspec": {
   "display_name": "Python 3",
   "language": "python",
   "name": "python3"
  },
  "language_info": {
   "codemirror_mode": {
    "name": "ipython",
    "version": 3
   },
   "file_extension": ".py",
   "mimetype": "text/x-python",
   "name": "python",
   "nbconvert_exporter": "python",
   "pygments_lexer": "ipython3",
   "version": "3.12.2"
  }
 },
 "nbformat": 4,
 "nbformat_minor": 5
}
