{
 "cells": [
  {
   "cell_type": "markdown",
   "id": "b16585a3",
   "metadata": {},
   "source": [
    "In Pandas, the groupby operation lets us group data based on specific columns. This means we can divide a DataFrame into smaller groups based on the values in these columns.\n",
    "\n",
    "Once grouped, we can then apply functions to each group separately. These functions help summarize or aggregate the data in each group."
   ]
  },
  {
   "cell_type": "markdown",
   "id": "bfad5b82",
   "metadata": {},
   "source": [
    "Group by a Single Column in Pandas\n"
   ]
  },
  {
   "cell_type": "code",
   "execution_count": 30,
   "id": "99f3140e",
   "metadata": {},
   "outputs": [
    {
     "name": "stdout",
     "output_type": "stream",
     "text": [
      "Category\n",
      "Clothing        800\n",
      "Electronics    1800\n",
      "Name: Sales, dtype: int64\n"
     ]
    }
   ],
   "source": [
    "import pandas as pd\n",
    "\n",
    "data = {'Category': ['Electronics', 'Clothing', 'Electronics', 'Clothing'],\n",
    "        'Sales': [1000, 500, 800, 300]}\n",
    "\n",
    "df = pd.DataFrame(data)\n",
    "\n",
    "# group the DataFrame by the Category column and\n",
    "# calculate the sum of Sales for each category\n",
    "\n",
    "grouped = df.groupby('Category')['Sales'].aggregate('sum')\n",
    "print(grouped)"
   ]
  },
  {
   "cell_type": "markdown",
   "id": "e10fae35",
   "metadata": {},
   "source": [
    "Group by a Multiple Column in Pandas"
   ]
  },
  {
   "cell_type": "code",
   "execution_count": 31,
   "id": "6d88f320",
   "metadata": {},
   "outputs": [
    {
     "name": "stdout",
     "output_type": "stream",
     "text": [
      "             Score    \n",
      "              mean max\n",
      "Gender Grade          \n",
      "Female A      88.0  88\n",
      "       B      85.0  85\n",
      "Male   A      91.0  92\n",
      "       B      78.0  78\n"
     ]
    }
   ],
   "source": [
    "data = {\n",
    "    'Gender': ['Male', 'Female', 'Male', 'Female', 'Male'],\n",
    "    'Grade': ['A', 'B', 'A', 'A', 'B'],\n",
    "    'Score': [90, 85, 92, 88, 78]\n",
    "}\n",
    "df = pd.DataFrame(data)\n",
    "\n",
    "print(df.groupby(['Gender','Grade']).agg(['mean','max']))"
   ]
  },
  {
   "cell_type": "markdown",
   "id": "4fae7a0b",
   "metadata": {},
   "source": [
    "Group With Categorical Data\n"
   ]
  },
  {
   "cell_type": "code",
   "execution_count": 36,
   "id": "ac0ec013",
   "metadata": {},
   "outputs": [
    {
     "name": "stdout",
     "output_type": "stream",
     "text": [
      "Gender\n",
      "Female    173\n",
      "Male      260\n",
      "Name: Score, dtype: int64\n"
     ]
    },
    {
     "name": "stderr",
     "output_type": "stream",
     "text": [
      "C:\\Users\\ASUS\\AppData\\Local\\Temp\\ipykernel_13324\\1290820220.py:2: FutureWarning: The default of observed=False is deprecated and will be changed to True in a future version of pandas. Pass observed=False to retain current behavior or observed=True to adopt the future default and silence this warning.\n",
      "  print(df.groupby('Gender')['Score'].sum())\n"
     ]
    }
   ],
   "source": [
    "df['Gender'] = pd.Categorical(df['Gender'])\n",
    "print(df.groupby('Gender')['Score'].sum())"
   ]
  }
 ],
 "metadata": {
  "kernelspec": {
   "display_name": "Python 3",
   "language": "python",
   "name": "python3"
  },
  "language_info": {
   "codemirror_mode": {
    "name": "ipython",
    "version": 3
   },
   "file_extension": ".py",
   "mimetype": "text/x-python",
   "name": "python",
   "nbconvert_exporter": "python",
   "pygments_lexer": "ipython3",
   "version": "3.12.2"
  }
 },
 "nbformat": 4,
 "nbformat_minor": 5
}
