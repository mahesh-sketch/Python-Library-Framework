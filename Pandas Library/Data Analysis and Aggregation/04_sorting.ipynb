{
 "cells": [
  {
   "cell_type": "code",
   "execution_count": 1,
   "id": "89ae213a",
   "metadata": {},
   "outputs": [],
   "source": [
    "import pandas as pd"
   ]
  },
  {
   "cell_type": "code",
   "execution_count": 6,
   "id": "cd6cb4b3",
   "metadata": {},
   "outputs": [
    {
     "name": "stdout",
     "output_type": "stream",
     "text": [
      "      Name  Age  Score\n",
      "1      Bob   22     90\n",
      "2  Charlie   25     75\n",
      "0    Alice   28     85\n",
      "      Name  Age  Score\n",
      "1      Bob   22     90\n",
      "2  Charlie   25     75\n",
      "0    Alice   28     85\n",
      "      Name  Age  Score\n",
      "2  Charlie   25     75\n",
      "1      Bob   22     90\n",
      "0    Alice   28     85\n"
     ]
    }
   ],
   "source": [
    "data = {'Name': ['Alice', 'Bob', 'Charlie'],\n",
    "        'Age': [28, 22, 25],\n",
    "        'Score': [85, 90, 75]\n",
    "        }\n",
    "\n",
    "df = pd.DataFrame(data)\n",
    "\n",
    "print(df.sort_values(by='Age'))\n",
    "\n",
    "# Sort DataFrame by 'Age' in ascending order, and then by 'Score' in descending order\n",
    "print(df.sort_values(by=['Age','Score'],ascending=[True,False]))\n",
    "\n",
    "print(df.sort_index(ascending=False))"
   ]
  }
 ],
 "metadata": {
  "kernelspec": {
   "display_name": "Python 3",
   "language": "python",
   "name": "python3"
  },
  "language_info": {
   "codemirror_mode": {
    "name": "ipython",
    "version": 3
   },
   "file_extension": ".py",
   "mimetype": "text/x-python",
   "name": "python",
   "nbconvert_exporter": "python",
   "pygments_lexer": "ipython3",
   "version": "3.12.2"
  }
 },
 "nbformat": 4,
 "nbformat_minor": 5
}
