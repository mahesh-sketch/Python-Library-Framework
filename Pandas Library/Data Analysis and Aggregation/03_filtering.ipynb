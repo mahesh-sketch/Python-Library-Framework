{
 "cells": [
  {
   "cell_type": "markdown",
   "id": "079b0389",
   "metadata": {},
   "source": [
    "Filtering data is a common operation in data analysis. Pandas allows us to filter data based on different conditions.\n",
    "\n",
    "We can filter the data in Pandas in two main ways:\n",
    "\n",
    "- By column names (Labels)\n",
    "- By the actual data inside (Values)\n"
   ]
  },
  {
   "cell_type": "markdown",
   "id": "3e09be5b",
   "metadata": {},
   "source": [
    "Filter Data By Labels\n"
   ]
  },
  {
   "cell_type": "code",
   "execution_count": 2,
   "id": "8132e237",
   "metadata": {},
   "outputs": [
    {
     "name": "stdout",
     "output_type": "stream",
     "text": [
      "      Name  Salary\n",
      "0    Alice   50000\n",
      "1      Bob   60000\n",
      "2  Charlie   55000\n",
      "3    David   70000\n"
     ]
    }
   ],
   "source": [
    "import pandas as pd\n",
    "\n",
    "data = {'Name': ['Alice', 'Bob', 'Charlie', 'David'],\n",
    "        'Department': ['HR', 'Marketing', 'Marketing', 'IT'],\n",
    "        'Salary': [50000, 60000, 55000, 70000]}\n",
    "\n",
    "df = pd.DataFrame(data)\n",
    "\n",
    "# use the filter() method to select columns based on a condition\n",
    "print(df.filter(items=['Name','Salary']))"
   ]
  },
  {
   "cell_type": "markdown",
   "id": "d4c47c1b",
   "metadata": {},
   "source": [
    "Filter Data By Values\n"
   ]
  },
  {
   "cell_type": "code",
   "execution_count": 4,
   "id": "4fcf2dbf",
   "metadata": {},
   "outputs": [
    {
     "name": "stdout",
     "output_type": "stream",
     "text": [
      "      Name Department  Salary\n",
      "1      Bob  Marketing   60000\n",
      "2  Charlie  Marketing   55000\n",
      "3    David         IT   70000\n",
      "      Name Department  Salary\n",
      "1      Bob  Marketing   60000\n",
      "2  Charlie  Marketing   55000\n"
     ]
    }
   ],
   "source": [
    "# logical operator\n",
    "print(df[df.Salary > 50000])\n",
    "\n",
    "# use query\n",
    "print(df.query('Salary > 50000 and Department == \"Marketing\"'))"
   ]
  }
 ],
 "metadata": {
  "kernelspec": {
   "display_name": "Python 3",
   "language": "python",
   "name": "python3"
  },
  "language_info": {
   "codemirror_mode": {
    "name": "ipython",
    "version": 3
   },
   "file_extension": ".py",
   "mimetype": "text/x-python",
   "name": "python",
   "nbconvert_exporter": "python",
   "pygments_lexer": "ipython3",
   "version": "3.12.2"
  }
 },
 "nbformat": 4,
 "nbformat_minor": 5
}
