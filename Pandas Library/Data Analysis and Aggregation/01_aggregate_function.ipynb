{
 "cells": [
  {
   "cell_type": "markdown",
   "id": "1713b425",
   "metadata": {},
   "source": [
    "Aggregate function in Pandas performs summary computations on data, often on grouped data. But it can also be used on Series objects.\n",
    "\n",
    "This can be really useful for tasks such as calculating mean, sum, count, and other statistics for different groups within our data.\n",
    "\n",
    "df.aggregate(func, axis=0, *args, **kwargs)\n",
    "\n"
   ]
  },
  {
   "cell_type": "markdown",
   "id": "b371aa6a",
   "metadata": {},
   "source": [
    "Apply Single Aggregate Function"
   ]
  },
  {
   "cell_type": "code",
   "execution_count": 7,
   "id": "4e1c2aeb",
   "metadata": {},
   "outputs": [
    {
     "name": "stdout",
     "output_type": "stream",
     "text": [
      "135\n",
      "22.5\n",
      "35\n"
     ]
    }
   ],
   "source": [
    "import pandas as pd\n",
    "\n",
    "data = {\n",
    "    'Category': ['A', 'A', 'B', 'B', 'A', 'B'],\n",
    "    'Value': [10, 15, 20, 25, 30, 35]\n",
    "}\n",
    "\n",
    "df = pd.DataFrame(data)\n",
    "\n",
    "# calculate total sum of the Value column\n",
    "total_sum = df['Value'].aggregate('sum')\n",
    "print(total_sum)\n",
    "\n",
    "# calculate the mean of the Value column\n",
    "average_value = df['Value'].aggregate('mean')\n",
    "print(average_value)\n",
    "\n",
    "# calculate the maximum value in the Value column\n",
    "max_value = df['Value'].aggregate('max')\n",
    "print(max_value)"
   ]
  },
  {
   "cell_type": "markdown",
   "id": "5ac3da70",
   "metadata": {},
   "source": [
    "Apply Multiple Aggregate Functions in Pandas"
   ]
  },
  {
   "cell_type": "code",
   "execution_count": 8,
   "id": "8c9a3167",
   "metadata": {},
   "outputs": [
    {
     "name": "stdout",
     "output_type": "stream",
     "text": [
      "          sum       mean  max  min\n",
      "Category                          \n",
      "A          55  18.333333   30   10\n",
      "B          80  26.666667   35   20\n"
     ]
    }
   ],
   "source": [
    "# applying multiple aggregation functions to a single column\n",
    "result = df.groupby('Category')['Value'].agg(['sum','mean','max','min'])\n",
    "print(result)"
   ]
  },
  {
   "cell_type": "markdown",
   "id": "048d6157",
   "metadata": {},
   "source": [
    "Apply Different Aggregation Functions"
   ]
  },
  {
   "cell_type": "code",
   "execution_count": 9,
   "id": "20ad0521",
   "metadata": {},
   "outputs": [
    {
     "name": "stdout",
     "output_type": "stream",
     "text": [
      "         Value1     Value2    \n",
      "            sum       mean max\n",
      "Category                      \n",
      "A            55  10.333333  18\n",
      "B            80  16.000000  21\n"
     ]
    }
   ],
   "source": [
    "data = {\n",
    "    'Category': ['A', 'A', 'B', 'B', 'A', 'B'],\n",
    "    'Value1': [10, 15, 20, 25, 30, 35],\n",
    "    'Value2': [5, 8, 12, 15, 18, 21]\n",
    "}\n",
    "\n",
    "df = pd.DataFrame(data)\n",
    "\n",
    "agg_functions = {\n",
    "    # applying 'sum' to Value1 column\n",
    "    'Value1' : 'sum',\n",
    "    # applying 'mean' and 'max' to Value2 column\n",
    "    'Value2' : ['mean','max']\n",
    "\n",
    "}\n",
    "\n",
    "print(df.groupby('Category').aggregate(agg_functions))"
   ]
  }
 ],
 "metadata": {
  "kernelspec": {
   "display_name": "Python 3",
   "language": "python",
   "name": "python3"
  },
  "language_info": {
   "codemirror_mode": {
    "name": "ipython",
    "version": 3
   },
   "file_extension": ".py",
   "mimetype": "text/x-python",
   "name": "python",
   "nbconvert_exporter": "python",
   "pygments_lexer": "ipython3",
   "version": "3.12.2"
  }
 },
 "nbformat": 4,
 "nbformat_minor": 5
}
