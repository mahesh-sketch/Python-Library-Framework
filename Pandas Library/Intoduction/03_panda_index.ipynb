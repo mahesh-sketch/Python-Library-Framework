{
 "cells": [
  {
   "cell_type": "markdown",
   "id": "50c9ba0f",
   "metadata": {},
   "source": [
    "In Pandas, an index refers to the labeled array that identifies rows or columns in a DataFrame or a Series"
   ]
  },
  {
   "cell_type": "code",
   "execution_count": 7,
   "id": "6c236f1b",
   "metadata": {},
   "outputs": [],
   "source": [
    "import pandas as pd"
   ]
  },
  {
   "cell_type": "markdown",
   "id": "b8234fb8",
   "metadata": {},
   "source": [
    "# Create Indexes in Pandas\n"
   ]
  },
  {
   "cell_type": "markdown",
   "id": "6c055207",
   "metadata": {},
   "source": [
    "Default Index"
   ]
  },
  {
   "cell_type": "code",
   "execution_count": 8,
   "id": "c9484122",
   "metadata": {},
   "outputs": [
    {
     "name": "stdout",
     "output_type": "stream",
     "text": [
      "    Name  Age      City\n",
      "0   John   25  New York\n",
      "1  Alice   28    London\n",
      "2    Bob   32     Paris\n"
     ]
    }
   ],
   "source": [
    "data = {'Name': ['John', 'Alice', 'Bob'],\n",
    "        'Age': [25, 28, 32],\n",
    "        'City': ['New York', 'London', 'Paris']}\n",
    "\n",
    "df = pd.DataFrame(data)\n",
    "print(df)"
   ]
  },
  {
   "cell_type": "markdown",
   "id": "5009c3f9",
   "metadata": {},
   "source": [
    "Setting Index"
   ]
  },
  {
   "cell_type": "code",
   "execution_count": 9,
   "id": "3b18e2e0",
   "metadata": {},
   "outputs": [
    {
     "name": "stdout",
     "output_type": "stream",
     "text": [
      "       Age      City\n",
      "Name                \n",
      "John    25  New York\n",
      "Alice   28    London\n",
      "Bob     32     Paris\n"
     ]
    }
   ],
   "source": [
    "df.set_index('Name',inplace=True)\n",
    "print(df)\n",
    "#inplace=True parameter performs the operation directly on the object itself, \n",
    "# without creating a new object. When we specify inplace=True,\n",
    "# the original object is modified, \n",
    "# and the changes are directly applied"
   ]
  },
  {
   "cell_type": "markdown",
   "id": "1cca9248",
   "metadata": {},
   "source": [
    "Range Index"
   ]
  },
  {
   "cell_type": "code",
   "execution_count": 10,
   "id": "b7ce91e4",
   "metadata": {},
   "outputs": [
    {
     "name": "stdout",
     "output_type": "stream",
     "text": [
      "        Name  Age      City\n",
      "Index                      \n",
      "5       John   25  New York\n",
      "6      Alice   28    London\n",
      "7        Bob   32     Paris\n"
     ]
    }
   ],
   "source": [
    "datas = {'Name': ['John', 'Alice', 'Bob'],\n",
    "        'Age': [25, 28, 32],\n",
    "        'City': ['New York', 'London', 'Paris']}\n",
    "\n",
    "dfs = pd.DataFrame(data,index=pd.RangeIndex(5,8,name='Index'))\n",
    "print(dfs)\n"
   ]
  }
 ],
 "metadata": {
  "kernelspec": {
   "display_name": "Python 3",
   "language": "python",
   "name": "python3"
  },
  "language_info": {
   "codemirror_mode": {
    "name": "ipython",
    "version": 3
   },
   "file_extension": ".py",
   "mimetype": "text/x-python",
   "name": "python",
   "nbconvert_exporter": "python",
   "pygments_lexer": "ipython3",
   "version": "3.12.2"
  }
 },
 "nbformat": 4,
 "nbformat_minor": 5
}
