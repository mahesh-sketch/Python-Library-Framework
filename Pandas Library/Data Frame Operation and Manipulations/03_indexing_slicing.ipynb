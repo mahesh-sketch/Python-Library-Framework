{
 "cells": [
  {
   "cell_type": "markdown",
   "id": "ee48467f",
   "metadata": {},
   "source": [
    "In Pandas, indexing refers to accessing rows and columns of data from a DataFrame, whereas slicing refers to accessing a range of rows and columns."
   ]
  },
  {
   "cell_type": "code",
   "execution_count": 1,
   "id": "951b65be",
   "metadata": {},
   "outputs": [],
   "source": [
    "import pandas as pd "
   ]
  },
  {
   "cell_type": "markdown",
   "id": "4dfd824b",
   "metadata": {},
   "source": [
    "Access Columns of a DataFrame\n"
   ]
  },
  {
   "cell_type": "code",
   "execution_count": 3,
   "id": "c1df403c",
   "metadata": {},
   "outputs": [
    {
     "name": "stdout",
     "output_type": "stream",
     "text": [
      "0      Alice\n",
      "1        Bob\n",
      "2    Charlie\n",
      "3      David\n",
      "4        Eve\n",
      "Name: Name, dtype: object\n",
      "Multiple column:\n",
      "        Name      City\n",
      "0    Alice  New York\n",
      "1      Bob     Paris\n",
      "2  Charlie    London\n",
      "3    David     Tokyo\n",
      "4      Eve    Sydney\n"
     ]
    }
   ],
   "source": [
    "data = {\n",
    "    'Name': ['Alice', 'Bob', 'Charlie', 'David', 'Eve'],\n",
    "    'Age': [25, 32, 18, 47, 33],\n",
    "    'City': ['New York', 'Paris', 'London', 'Tokyo', 'Sydney']\n",
    "}\n",
    "df = pd.DataFrame(data)\n",
    "\n",
    "# access the Name column\n",
    "print(df['Name'])\n",
    "\n",
    "# access multiple columns\n",
    "print(\"Multiple column:\\n \",df[['Name','City']])"
   ]
  },
  {
   "cell_type": "markdown",
   "id": "28eb6399",
   "metadata": {},
   "source": [
    "# Pandas .loc\n",
    "In Pandas, we use the .loc property to access and modify data within a DataFrame using label-based indexing. It allows us to select specific rows and columns based on their labels.\n",
    "\n"
   ]
  },
  {
   "cell_type": "markdown",
   "id": "2484fb6c",
   "metadata": {},
   "source": [
    "Indexing using .loc"
   ]
  },
  {
   "cell_type": "code",
   "execution_count": 8,
   "id": "af4db7ca",
   "metadata": {},
   "outputs": [
    {
     "name": "stdout",
     "output_type": "stream",
     "text": [
      "Name    Charlie\n",
      "Age          18\n",
      "City     London\n",
      "Name: 2, dtype: object\n",
      "List of Rows: \n",
      "     Name  Age      City\n",
      "0  Alice   25  New York\n",
      "3  David   47     Tokyo\n",
      "4    Eve   33    Sydney\n",
      "List of Columns:\n",
      "       Name  Age\n",
      "0    Alice   25\n",
      "1      Bob   32\n",
      "2  Charlie   18\n",
      "3    David   47\n",
      "4      Eve   33\n",
      "specific:\n",
      " Bob\n"
     ]
    }
   ],
   "source": [
    "# access a single row\n",
    "print(df.loc[2])\n",
    "\n",
    "# access rows 0, 3 and 4\n",
    "print(\"List of Rows: \\n\",df.loc[[0,3,4]])\n",
    "\n",
    "# access a list of columns\n",
    "print(\"List of Columns:\\n\",df.loc[:,['Name','Age']])\n",
    "\n",
    "# access second row of 'Name' column\n",
    "print(\"specific:\\n\",df.loc[1,'Name'])"
   ]
  },
  {
   "cell_type": "markdown",
   "id": "d6e10390",
   "metadata": {},
   "source": [
    "Slicing using .loc"
   ]
  },
  {
   "cell_type": "code",
   "execution_count": 10,
   "id": "e3625ac3",
   "metadata": {},
   "outputs": [
    {
     "name": "stdout",
     "output_type": "stream",
     "text": [
      "      Name  Age    City\n",
      "1      Bob   32   Paris\n",
      "2  Charlie   18  London\n",
      "3    David   47   Tokyo\n",
      "      Name  Age\n",
      "0    Alice   25\n",
      "1      Bob   32\n",
      "2  Charlie   18\n",
      "3    David   47\n",
      "4      Eve   33\n"
     ]
    }
   ],
   "source": [
    "# slice rows from index 1 to 3\n",
    "print(df.loc[1:3])\n",
    "\n",
    "# slicing columns from 'Name' to 'Age'\n",
    "print(df.loc[:,'Name':'Age'])"
   ]
  },
  {
   "cell_type": "markdown",
   "id": "f050b1dc",
   "metadata": {},
   "source": [
    "Boolean Indexing With .loc"
   ]
  },
  {
   "cell_type": "code",
   "execution_count": 11,
   "id": "330f7edd",
   "metadata": {},
   "outputs": [
    {
     "name": "stdout",
     "output_type": "stream",
     "text": [
      "    Name  Age    City\n",
      "1    Bob   32   Paris\n",
      "3  David   47   Tokyo\n",
      "4    Eve   33  Sydney\n"
     ]
    }
   ],
   "source": [
    "# boolean indexing with .loc\n",
    "boolean_index = df.loc[df['Age'] > 30]\n",
    "print(boolean_index)"
   ]
  },
  {
   "cell_type": "markdown",
   "id": "4bbadb4e",
   "metadata": {},
   "source": [
    "# Pandas .iloc\n",
    "In Pandas, the .iloc property is used to access and modify data within a DataFrame using integer-based indexing. It allows us to select specific rows and columns based on their integer locations."
   ]
  },
  {
   "cell_type": "markdown",
   "id": "955f138a",
   "metadata": {},
   "source": [
    "Indexing Using .iloc"
   ]
  },
  {
   "cell_type": "code",
   "execution_count": 13,
   "id": "dd10a4a4",
   "metadata": {},
   "outputs": [
    {
     "name": "stdout",
     "output_type": "stream",
     "text": [
      "Name    Charlie\n",
      "Age          18\n",
      "City     London\n",
      "Name: 2, dtype: object\n",
      "    Name  Age      City\n",
      "0  Alice   25  New York\n",
      "3  David   47     Tokyo\n",
      "4    Eve   33    Sydney\n"
     ]
    }
   ],
   "source": [
    "# access single row\n",
    "print(df.iloc[2])\n",
    "\n",
    "# access rows 0, 3 and 4\n",
    "print(df.iloc[[0,3,4]])"
   ]
  },
  {
   "cell_type": "markdown",
   "id": "5b25b397",
   "metadata": {},
   "source": [
    "Slicing Using .iloc"
   ]
  },
  {
   "cell_type": "code",
   "execution_count": 15,
   "id": "31c6852f",
   "metadata": {},
   "outputs": [
    {
     "name": "stdout",
     "output_type": "stream",
     "text": [
      "      Name  Age    City\n",
      "1      Bob   32   Paris\n",
      "2  Charlie   18  London\n",
      "      Name  Age\n",
      "0    Alice   25\n",
      "1      Bob   32\n",
      "2  Charlie   18\n",
      "3    David   47\n",
      "4      Eve   33\n"
     ]
    }
   ],
   "source": [
    "# slice rows from position 1 to 3\n",
    "print(df.iloc[1:3])\n",
    "\n",
    "# slice columns from position 0 to 1\n",
    "print(df.iloc[:,0:2])"
   ]
  },
  {
   "cell_type": "markdown",
   "id": "144a12b2",
   "metadata": {},
   "source": [
    "The main differences between .loc and .iloc are as follows:\n",
    "\n",
    ".loc:\n",
    "- Label-based indexing\n",
    "- Endpoint is included\n",
    "- Boolean indexing is supported\n",
    "\n",
    ".iloc:\n",
    "- Integer-based indexing\n",
    "- Endpoint is not included\n",
    "- Boolean indexing is not supported"
   ]
  }
 ],
 "metadata": {
  "kernelspec": {
   "display_name": "Python 3",
   "language": "python",
   "name": "python3"
  },
  "language_info": {
   "codemirror_mode": {
    "name": "ipython",
    "version": 3
   },
   "file_extension": ".py",
   "mimetype": "text/x-python",
   "name": "python",
   "nbconvert_exporter": "python",
   "pygments_lexer": "ipython3",
   "version": "3.12.2"
  }
 },
 "nbformat": 4,
 "nbformat_minor": 5
}
