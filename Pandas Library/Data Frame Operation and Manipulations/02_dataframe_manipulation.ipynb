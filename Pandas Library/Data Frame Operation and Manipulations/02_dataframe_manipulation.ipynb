{
 "cells": [
  {
   "cell_type": "markdown",
   "id": "11713684",
   "metadata": {},
   "source": [
    "DataFrame manipulation in Pandas involves editing and modifying existing DataFrames. Some common DataFrame manipulation operations are:\n",
    "\n",
    "* Adding rows/columns\n",
    "* Removing rows/columns\n",
    "* Renaming rows/columns"
   ]
  },
  {
   "cell_type": "code",
   "execution_count": 1,
   "id": "e98c83cf",
   "metadata": {},
   "outputs": [],
   "source": [
    "import pandas as pd"
   ]
  },
  {
   "cell_type": "markdown",
   "id": "bebbf420",
   "metadata": {},
   "source": [
    "Add a New Column/Row to a Pandas DataFrame"
   ]
  },
  {
   "cell_type": "code",
   "execution_count": 2,
   "id": "591e638a",
   "metadata": {},
   "outputs": [
    {
     "name": "stdout",
     "output_type": "stream",
     "text": [
      "Originally Table:\n",
      "        Name  Height Qualification\n",
      "0     John     5.5           BSc\n",
      "1     Emma     6.0           BBA\n",
      "2  Michael     5.8           MBA\n",
      "3   Sophia     5.3           BSc\n",
      "After adding adress column:\n",
      "        Name  Height Qualification   Address\n",
      "0     John     5.5           BSc  New York\n",
      "1     Emma     6.0           BBA    London\n",
      "2  Michael     5.8           MBA    Sydney\n",
      "3   Sophia     5.3           BSc   Toronto\n",
      "After Adding row:\n",
      "        Name  Height Qualification   Address\n",
      "0     John     5.5           BSc  New York\n",
      "1     Emma     6.0           BBA    London\n",
      "2  Michael     5.8           MBA    Sydney\n",
      "3   Sophia     5.3           BSc   Toronto\n",
      "4      Amy     5.2           BIT      BBSR\n"
     ]
    }
   ],
   "source": [
    "data = {'Name': ['John', 'Emma', 'Michael', 'Sophia'],\n",
    "        'Height': [5.5, 6.0, 5.8, 5.3],\n",
    "        'Qualification': ['BSc', 'BBA', 'MBA', 'BSc']}\n",
    "\n",
    "df = pd.DataFrame(data)\n",
    "print(\"Originally Table:\\n \",df)\n",
    "\n",
    "# declare a new list\n",
    "address = ['New York', 'London', 'Sydney', 'Toronto']\n",
    "\n",
    "# assign the list as a column\n",
    "df['Address'] = address\n",
    "print(\"After adding adress column:\\n \",df)\n",
    "\n",
    "# assign a new row\n",
    "df.loc[len(df.index)] = ['Amy',5.2,'BIT','BBSR']\n",
    "print(\"After Adding row:\\n \",df)"
   ]
  },
  {
   "cell_type": "markdown",
   "id": "fe42532b",
   "metadata": {},
   "source": [
    "Remove Rows/Columns from a Pandas DataFrame"
   ]
  },
  {
   "cell_type": "code",
   "execution_count": 3,
   "id": "1cea0181",
   "metadata": {},
   "outputs": [
    {
     "name": "stdout",
     "output_type": "stream",
     "text": [
      "Before Deleting:\n",
      "        Name  Height Qualification   Address\n",
      "0     John     5.5           BSc  New York\n",
      "1     Emma     6.0           BBA    London\n",
      "2  Michael     5.8           MBA    Sydney\n",
      "3   Sophia     5.3           BSc   Toronto\n",
      "4      Amy     5.2           BIT      BBSR\n",
      "After Deleting:\n",
      "        Name  Height Qualification   Address\n",
      "0     John     5.5           BSc  New York\n",
      "1     Emma     6.0           BBA    London\n",
      "2  Michael     5.8           MBA    Sydney\n",
      "3   Sophia     5.3           BSc   Toronto\n"
     ]
    }
   ],
   "source": [
    "# Delete Rows with index 4\n",
    "print(\"Before Deleting:\\n \",df)\n",
    "df.drop(4,axis=0,inplace=True)\n",
    "print(\"After Deleting:\\n \",df)"
   ]
  },
  {
   "cell_type": "code",
   "execution_count": 4,
   "id": "c6bccdfb",
   "metadata": {},
   "outputs": [
    {
     "name": "stdout",
     "output_type": "stream",
     "text": [
      "Original DataFrame:\n",
      "      Name  Age      City Height    Profession Marital Status\n",
      "0    Alice   25  New York    165      Engineer         Single\n",
      "1      Bob   30    London    178  Entrepreneur        Married\n",
      "2  Charlie   35     Paris    185    Unemployed       Divorced\n",
      "3    David   40     Tokyo    171         Actor        Engaged\n",
      "\n",
      "Modified DataFrame:\n",
      "      Name      City\n",
      "0    Alice  New York\n",
      "1      Bob    London\n",
      "2  Charlie     Paris\n",
      "3    David     Tokyo\n"
     ]
    }
   ],
   "source": [
    "data = {'Name': ['Alice', 'Bob', 'Charlie', 'David'],\n",
    "        'Age': [25, 30, 35, 40],\n",
    "        'City': ['New York', 'London', 'Paris', 'Tokyo'],\n",
    "        'Height': ['165', '178', '185', '171'],\n",
    "        'Profession': ['Engineer', 'Entrepreneur', 'Unemployed', 'Actor'],\n",
    "        'Marital Status': ['Single', 'Married', 'Divorced', 'Engaged']}\n",
    "df = pd.DataFrame(data)\n",
    "\n",
    "# display the original DataFrame\n",
    "print(\"Original DataFrame:\")\n",
    "print(df)\n",
    "print()\n",
    "\n",
    "# delete age column\n",
    "df.drop('Age', axis=1, inplace=True)\n",
    "\n",
    "# delete marital status column\n",
    "df.drop(columns='Marital Status', inplace=True)\n",
    "\n",
    "# delete height and profession columns\n",
    "df.drop(['Height', 'Profession'], axis=1, inplace=True)\n",
    "\n",
    "# display the modified DataFrame after deleting rows\n",
    "print(\"Modified DataFrame:\")\n",
    "print(df)"
   ]
  },
  {
   "cell_type": "markdown",
   "id": "15973470",
   "metadata": {},
   "source": [
    "Rename Labels in a DataFrame\n"
   ]
  },
  {
   "cell_type": "code",
   "execution_count": 5,
   "id": "ea111ab8",
   "metadata": {},
   "outputs": [
    {
     "name": "stdout",
     "output_type": "stream",
     "text": [
      "Original DataFrame:\n",
      "      Name  Age      City\n",
      "0    Alice   25  New York\n",
      "1      Bob   30    London\n",
      "2  Charlie   35     Paris\n",
      "3    David   40     Tokyo\n",
      "\n",
      "Modified DataFrame:\n",
      "  First_Name  Number   Address\n",
      "0      Alice      25  New York\n",
      "1        Bob      30    London\n",
      "2    Charlie      35     Paris\n",
      "3      David      40     Tokyo\n"
     ]
    }
   ],
   "source": [
    "data = {'Name': ['Alice', 'Bob', 'Charlie', 'David'],\n",
    "        'Age': [25, 30, 35, 40],\n",
    "        'City': ['New York', 'London', 'Paris', 'Tokyo']}\n",
    "df = pd.DataFrame(data)\n",
    "\n",
    "# display the original DataFrame\n",
    "print(\"Original DataFrame:\")\n",
    "print(df)\n",
    "print()\n",
    "\n",
    "# rename column 'Name' to 'First_Name'\n",
    "df.rename(columns= {'Name': 'First_Name'}, inplace=True)\n",
    "\n",
    "# rename columns 'Age' and 'City'\n",
    "df.rename(mapper= {'Age': 'Number', 'City':'Address'}, axis=1, inplace=True)\n",
    "\n",
    "# display the DataFrame after renaming column\n",
    "print(\"Modified DataFrame:\")\n",
    "print(df)"
   ]
  }
 ],
 "metadata": {
  "kernelspec": {
   "display_name": "Python 3",
   "language": "python",
   "name": "python3"
  },
  "language_info": {
   "codemirror_mode": {
    "name": "ipython",
    "version": 3
   },
   "file_extension": ".py",
   "mimetype": "text/x-python",
   "name": "python",
   "nbconvert_exporter": "python",
   "pygments_lexer": "ipython3",
   "version": "3.12.2"
  }
 },
 "nbformat": 4,
 "nbformat_minor": 5
}
