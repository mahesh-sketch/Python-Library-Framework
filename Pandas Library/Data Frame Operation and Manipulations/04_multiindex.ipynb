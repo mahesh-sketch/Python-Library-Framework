{
 "cells": [
  {
   "cell_type": "markdown",
   "id": "3f593304",
   "metadata": {},
   "source": [
    "A MultiIndex in Pandas is a hierarchical indexing structure that allows us to represent and work with higher-dimensional data efficiently.\n",
    "\n",
    "While a typical index refers to a single column, a MultiIndex contains multiple levels of indexes. Each column in a MultiIndex is linked to one another through a parent/relationship."
   ]
  },
  {
   "cell_type": "code",
   "execution_count": 1,
   "id": "557d93a7",
   "metadata": {},
   "outputs": [],
   "source": [
    "import pandas as pd"
   ]
  },
  {
   "cell_type": "code",
   "execution_count": 8,
   "id": "e489200e",
   "metadata": {},
   "outputs": [
    {
     "name": "stdout",
     "output_type": "stream",
     "text": [
      "Before MultiIndexing: \n",
      "        Continent         Country  Population\n",
      "0  North America   United States   331002651\n",
      "1         Europe         Germany    83783942\n",
      "2           Asia           China  1439323776\n",
      "3  North America          Canada    37742154\n",
      "4           Asia           Japan   126476461\n",
      "5         Europe          France    65273511\n",
      "6  North America          Mexico   128932753\n",
      "7           Asia           India  1380004385\n",
      "8         Europe  United Kingdom    67886011\n",
      "9           Asia           Nepal    29136808\n",
      "After MultiIndexing: \n",
      "                               Population\n",
      "Continent     Country                   \n",
      "Asia          China           1439323776\n",
      "              Japan            126476461\n",
      "              India           1380004385\n",
      "              Nepal             29136808\n",
      "Europe        Germany           83783942\n",
      "              France            65273511\n",
      "              United Kingdom    67886011\n",
      "North America United States    331002651\n",
      "              Canada            37742154\n",
      "              Mexico           128932753\n"
     ]
    }
   ],
   "source": [
    "data = {\n",
    "    \"Continent\": [\"North America\", \"Europe\", \"Asia\", \"North America\", \"Asia\", \"Europe\", \"North America\", \"Asia\", \"Europe\", \"Asia\"],\n",
    "    \"Country\": [\"United States\", \"Germany\", \"China\", \"Canada\", \"Japan\", \"France\", \"Mexico\", \"India\", \"United Kingdom\", \"Nepal\"],\n",
    "    \"Population\": [331002651, 83783942, 1439323776, 37742154, 126476461, 65273511, 128932753, 1380004385, 67886011, 29136808]\n",
    "}\n",
    "\n",
    "df = pd.DataFrame(data)\n",
    "print(\"Before MultiIndexing: \\n\",df)\n",
    "\n",
    "df.sort_values('Continent',inplace=True)\n",
    "df.set_index(['Continent','Country'],inplace=True)\n",
    "\n",
    "print(\"After MultiIndexing: \\n\",df)\n"
   ]
  },
  {
   "cell_type": "markdown",
   "id": "9692d80f",
   "metadata": {},
   "source": [
    "Access Rows With MultiIndex\n"
   ]
  },
  {
   "cell_type": "code",
   "execution_count": 10,
   "id": "f5ef8494",
   "metadata": {},
   "outputs": [
    {
     "name": "stdout",
     "output_type": "stream",
     "text": [
      "         Population\n",
      "Country            \n",
      "China    1439323776\n",
      "Japan     126476461\n",
      "India    1380004385\n",
      "Nepal      29136808\n",
      "Population    37742154\n",
      "Name: (North America, Canada), dtype: int64\n"
     ]
    }
   ],
   "source": [
    "# access all entries under Asia\n",
    "print(df.loc['Asia'])\n",
    "\n",
    "# access Canada\n",
    "print(df.loc[('North America','Canada')])"
   ]
  }
 ],
 "metadata": {
  "kernelspec": {
   "display_name": "Python 3",
   "language": "python",
   "name": "python3"
  },
  "language_info": {
   "codemirror_mode": {
    "name": "ipython",
    "version": 3
   },
   "file_extension": ".py",
   "mimetype": "text/x-python",
   "name": "python",
   "nbconvert_exporter": "python",
   "pygments_lexer": "ipython3",
   "version": "3.12.2"
  }
 },
 "nbformat": 4,
 "nbformat_minor": 5
}
