{
 "cells": [
  {
   "cell_type": "markdown",
   "id": "b6b679ce",
   "metadata": {},
   "source": [
    "In Pandas, reshaping data refers to the process of converting a DataFrame from one format to another for better data visualization and analysis.\n",
    "\n",
    "Pandas provides multiple methods like pivot(), pivot_table(), stack(), unstack() and melt() to reshape data. We can choose the method based on our analysis requirement."
   ]
  },
  {
   "cell_type": "code",
   "execution_count": 1,
   "id": "0f409fa8",
   "metadata": {},
   "outputs": [],
   "source": [
    "import pandas as pd"
   ]
  },
  {
   "cell_type": "markdown",
   "id": "c918684a",
   "metadata": {},
   "source": [
    "Reshape Data Using pivot()\n",
    "\n",
    "In Pandas, the pivot() function reshapes data based on column values.\n",
    "\n",
    "It takes simple column-wise data as input, and groups the entries into a two-dimensional table."
   ]
  },
  {
   "cell_type": "code",
   "execution_count": 4,
   "id": "67650dc6",
   "metadata": {},
   "outputs": [
    {
     "name": "stdout",
     "output_type": "stream",
     "text": [
      "Original Dataframe:\n",
      "          Date Category  Value\n",
      "0  2023-08-01        A     10\n",
      "1  2023-08-01        B     20\n",
      "2  2023-08-02        A     30\n",
      "3  2023-08-02        B     40\n",
      "Reshaped DataFrame:\n",
      " Category     A   B\n",
      "Date              \n",
      "2023-08-01  10  20\n",
      "2023-08-02  30  40\n"
     ]
    }
   ],
   "source": [
    "data = {'Date': ['2023-08-01', '2023-08-01', '2023-08-02', '2023-08-02'],\n",
    "        'Category': ['A', 'B', 'A', 'B'],\n",
    "        'Value': [10, 20, 30, 40]}\n",
    "df = pd.DataFrame(data)\n",
    "\n",
    "print(\"Original Dataframe:\\n\", df)\n",
    "\n",
    "pivot_df = df.pivot(index='Date',columns='Category',values='Value')\n",
    "print(\"Reshaped DataFrame:\\n\", pivot_df)"
   ]
  },
  {
   "cell_type": "markdown",
   "id": "664c87fd",
   "metadata": {},
   "source": [
    "Reshape Data Using pivot_table()\n",
    "\n",
    "The pivot_table() function in Pandas is a way for reshaping and summarizing data in a DataFrame.\n",
    "\n",
    "It allows us to create a pivot table that aggregates and summarizes data based on the specified index, columns, and aggregation functions."
   ]
  },
  {
   "cell_type": "code",
   "execution_count": 7,
   "id": "d39fa3b1",
   "metadata": {},
   "outputs": [
    {
     "name": "stdout",
     "output_type": "stream",
     "text": [
      "Original Dataframe:\n",
      "   Category  Value\n",
      "0        A     10\n",
      "1        B     20\n",
      "2        A     30\n",
      "3        B     40\n",
      "4        A     50\n",
      "5        B     60\n",
      "Reshaped Dataframe:\n",
      "           Value\n",
      "Category       \n",
      "A          30.0\n",
      "B          40.0\n"
     ]
    }
   ],
   "source": [
    "data = {'Category': ['A', 'B', 'A', 'B', 'A', 'B'],\n",
    "        'Value': [10, 20, 30, 40, 50, 60]}\n",
    "df = pd.DataFrame(data)\n",
    "print(\"Original Dataframe:\\n\", df)\n",
    "\n",
    "pivot_table_df = df.pivot_table(index='Category',values='Value',aggfunc='mean')\n",
    "print(\"Reshaped Dataframe:\\n\", pivot_table_df)"
   ]
  },
  {
   "cell_type": "markdown",
   "id": "3809dd1a",
   "metadata": {},
   "source": [
    "Reshape Data Using stack() and unstack()\n",
    "\n",
    "In Pandas, we can also use the stack() and unstack() to reshape data.\n",
    "\n",
    "stack() is used to pivot a level of the column labels, transforming them into innermost row index levels.\n",
    "unstack() is used to pivot a level of the row index, transforming it into an outermost column level"
   ]
  },
  {
   "cell_type": "code",
   "execution_count": 10,
   "id": "040a9133",
   "metadata": {},
   "outputs": [
    {
     "name": "stdout",
     "output_type": "stream",
     "text": [
      "Before Stack: \n",
      "             Category_A  Category_B\n",
      "Date                              \n",
      "2023-08-01          10          30\n",
      "2023-08-02          20          40\n",
      "Stack:\n",
      " Date                  \n",
      "2023-08-01  Category_A    10\n",
      "            Category_B    30\n",
      "2023-08-02  Category_A    20\n",
      "            Category_B    40\n",
      "dtype: int64\n",
      "Unstack: \n",
      "             Category_A  Category_B\n",
      "Date                              \n",
      "2023-08-01          10          30\n",
      "2023-08-02          20          40\n"
     ]
    }
   ],
   "source": [
    "data = {'Date': ['2023-08-01', '2023-08-02'],\n",
    "        'Category_A': [10, 20],\n",
    "        'Category_B': [30, 40]}\n",
    "df = pd.DataFrame(data)\n",
    "\n",
    "df.set_index('Date', inplace=True)\n",
    "print(\"Before Stack: \\n\",df)\n",
    "\n",
    "stacked_df = df.stack()\n",
    "print(\"Stack:\\n\", stacked_df)\n",
    "\n",
    "unstacked_df = stacked_df.unstack()\n",
    "print(\"Unstack: \\n\", unstacked_df)\n"
   ]
  }
 ],
 "metadata": {
  "kernelspec": {
   "display_name": "Python 3",
   "language": "python",
   "name": "python3"
  },
  "language_info": {
   "codemirror_mode": {
    "name": "ipython",
    "version": 3
   },
   "file_extension": ".py",
   "mimetype": "text/x-python",
   "name": "python",
   "nbconvert_exporter": "python",
   "pygments_lexer": "ipython3",
   "version": "3.12.2"
  }
 },
 "nbformat": 4,
 "nbformat_minor": 5
}
