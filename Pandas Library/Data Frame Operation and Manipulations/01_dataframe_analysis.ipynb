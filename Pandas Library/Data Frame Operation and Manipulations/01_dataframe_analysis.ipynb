{
 "cells": [
  {
   "cell_type": "markdown",
   "id": "989ae698",
   "metadata": {},
   "source": [
    "Pandas DataFrame objects come with a variety of built-in functions like head(), tail() and info() that allow us to view and analyze DataFrames."
   ]
  },
  {
   "cell_type": "code",
   "execution_count": 1,
   "id": "c52df54b",
   "metadata": {},
   "outputs": [],
   "source": [
    "import pandas as pd"
   ]
  },
  {
   "cell_type": "markdown",
   "id": "95627aae",
   "metadata": {},
   "source": [
    "Pandas head()\n"
   ]
  },
  {
   "cell_type": "code",
   "execution_count": 2,
   "id": "eccb5f73",
   "metadata": {},
   "outputs": [
    {
     "name": "stdout",
     "output_type": "stream",
     "text": [
      "    Name  Age      City\n",
      "0   John   25  New York\n",
      "1  Alice   30     Paris\n",
      "2    Bob   35    London\n",
      "3   Emma   28    Sydney\n",
      "4   Mike   32     Tokyo\n"
     ]
    }
   ],
   "source": [
    "data = {'Name': ['John', 'Alice', 'Bob', 'Emma', 'Mike', 'Sarah', 'David', 'Linda', 'Tom', 'Emily'],\n",
    "        'Age': [25, 30, 35, 28, 32, 27, 40, 33, 29, 31],\n",
    "        'City': ['New York', 'Paris', 'London', 'Sydney', 'Tokyo', 'Berlin', 'Rome', 'Madrid', 'Toronto', 'Moscow']}\n",
    "df = pd.DataFrame(data)\n",
    "\n",
    "print(df.head())"
   ]
  },
  {
   "cell_type": "markdown",
   "id": "f91d98ca",
   "metadata": {},
   "source": [
    "Pandas tail()\n"
   ]
  },
  {
   "cell_type": "code",
   "execution_count": 3,
   "id": "cf271c25",
   "metadata": {},
   "outputs": [
    {
     "name": "stdout",
     "output_type": "stream",
     "text": [
      "    Name  Age     City\n",
      "5  Sarah   27   Berlin\n",
      "6  David   40     Rome\n",
      "7  Linda   33   Madrid\n",
      "8    Tom   29  Toronto\n",
      "9  Emily   31   Moscow\n"
     ]
    }
   ],
   "source": [
    "print(df.tail())"
   ]
  },
  {
   "cell_type": "markdown",
   "id": "0a252358",
   "metadata": {},
   "source": [
    "Get DataFrame Information\n"
   ]
  },
  {
   "cell_type": "code",
   "execution_count": 4,
   "id": "75563dcc",
   "metadata": {},
   "outputs": [
    {
     "name": "stdout",
     "output_type": "stream",
     "text": [
      "<class 'pandas.core.frame.DataFrame'>\n",
      "RangeIndex: 10 entries, 0 to 9\n",
      "Data columns (total 3 columns):\n",
      " #   Column  Non-Null Count  Dtype \n",
      "---  ------  --------------  ----- \n",
      " 0   Name    10 non-null     object\n",
      " 1   Age     10 non-null     int64 \n",
      " 2   City    10 non-null     object\n",
      "dtypes: int64(1), object(2)\n",
      "memory usage: 372.0+ bytes\n",
      "None\n"
     ]
    }
   ],
   "source": [
    "print(df.info())"
   ]
  }
 ],
 "metadata": {
  "kernelspec": {
   "display_name": "Python 3",
   "language": "python",
   "name": "python3"
  },
  "language_info": {
   "codemirror_mode": {
    "name": "ipython",
    "version": 3
   },
   "file_extension": ".py",
   "mimetype": "text/x-python",
   "name": "python",
   "nbconvert_exporter": "python",
   "pygments_lexer": "ipython3",
   "version": "3.12.2"
  }
 },
 "nbformat": 4,
 "nbformat_minor": 5
}
