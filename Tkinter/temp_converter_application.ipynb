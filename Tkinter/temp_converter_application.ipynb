{
 "cells": [
  {
   "cell_type": "code",
   "execution_count": 1,
   "id": "1aa5ea6a",
   "metadata": {},
   "outputs": [],
   "source": [
    "import tkinter as tk\n",
    "from tkinter import ttk\n",
    "from tkinter.messagebox import showerror\n",
    "\n",
    "root = tk.Tk()\n",
    "root.title('Temperature Converter')\n",
    "root.geometry('300x70')\n",
    "root.resizable(False,False)\n",
    "\n",
    "# function or logic for fahrenheit to celsius\n",
    "def fahrenheit_to_celsis(f):\n",
    "    return (f-32) * 5/9\n",
    "\n",
    "frame = ttk.Frame(root)\n",
    "options = {'padx' : 5, 'pady' : 5}\n",
    "\n",
    "temp_label = ttk.Label(frame,text='Fahrenheit')\n",
    "temp_label.grid(column=0,row=0,sticky='W',**options)\n",
    "\n",
    "temp = tk.StringVar()\n",
    "temp_entry = ttk.Entry(frame,textvariable=temp)\n",
    "temp_entry.grid(column=1,row=0,**options)\n",
    "temp_entry.focus()\n",
    "\n",
    "# convert button logic\n",
    "def convert_button_clicked():\n",
    "    try:\n",
    "        f = float(temp.get())\n",
    "        c =fahrenheit_to_celsis(f)\n",
    "        result = f'{f} Fahrenheit = {c:.2f} Celsius'\n",
    "        result_label.config(text=result)\n",
    "    except ValueError as error:\n",
    "        showerror(title='Error',message=error)\n",
    "\n",
    "\n",
    "convert_button = ttk.Button(frame,text='Convert')\n",
    "convert_button.grid(column=2,row=0,sticky='W',**options)\n",
    "convert_button.configure(command=convert_button_clicked)    \n",
    "\n",
    "\n",
    "result_label = ttk.Label(frame)\n",
    "result_label.grid(row=1,columnspan=3,**options)\n",
    "\n",
    "frame.grid(padx=10,pady=10)\n",
    "\n",
    "root.mainloop()"
   ]
  }
 ],
 "metadata": {
  "kernelspec": {
   "display_name": "Python 3",
   "language": "python",
   "name": "python3"
  },
  "language_info": {
   "codemirror_mode": {
    "name": "ipython",
    "version": 3
   },
   "file_extension": ".py",
   "mimetype": "text/x-python",
   "name": "python",
   "nbconvert_exporter": "python",
   "pygments_lexer": "ipython3",
   "version": "3.12.2"
  }
 },
 "nbformat": 4,
 "nbformat_minor": 5
}
