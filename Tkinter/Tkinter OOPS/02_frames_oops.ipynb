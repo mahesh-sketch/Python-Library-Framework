{
 "cells": [
  {
   "cell_type": "code",
   "execution_count": 1,
   "id": "cbcdfabb",
   "metadata": {},
   "outputs": [],
   "source": [
    "import tkinter as tk\n",
    "from tkinter import ttk\n",
    "from tkinter.messagebox import showinfo\n",
    "\n",
    "\n",
    "class MainFrame(ttk.Frame):\n",
    "\tdef __init__(self, container):\n",
    "\t\tsuper().__init__(container)\n",
    "\n",
    "\t\toptions = {'padx': 5, 'pady': 5}\n",
    "\n",
    "\t\t# label\n",
    "\t\tself.label = ttk.Label(self, text='Hello, Tkinter!')\n",
    "\t\tself.label.pack(**options)\n",
    "\n",
    "\t\t# button\n",
    "\t\tself.button = ttk.Button(self, text='Click Me')\n",
    "\t\tself.button['command'] = self.button_clicked\n",
    "\t\tself.button.pack(**options)\n",
    "\n",
    "\t\t# show the frame on the container\n",
    "\t\tself.pack(**options)\n",
    "\n",
    "\tdef button_clicked(self):\n",
    "\t\tshowinfo(title='Information',\n",
    "\t\t\t\t message='Hello, Tkinter!')\n",
    "\n",
    "\n",
    "class App(tk.Tk):\n",
    "\tdef __init__(self):\n",
    "\t\tsuper().__init__()\n",
    "\t\t# configure the root window\n",
    "\t\tself.title('My Awesome App')\n",
    "\t\tself.geometry('300x100')\n",
    "\n",
    "\n",
    "if __name__ == \"__main__\":\n",
    "\tapp = App()\n",
    "\tframe = MainFrame(app)\n",
    "\tapp.mainloop()"
   ]
  }
 ],
 "metadata": {
  "kernelspec": {
   "display_name": "Python 3",
   "language": "python",
   "name": "python3"
  },
  "language_info": {
   "codemirror_mode": {
    "name": "ipython",
    "version": 3
   },
   "file_extension": ".py",
   "mimetype": "text/x-python",
   "name": "python",
   "nbconvert_exporter": "python",
   "pygments_lexer": "ipython3",
   "version": "3.12.2"
  }
 },
 "nbformat": 4,
 "nbformat_minor": 5
}
