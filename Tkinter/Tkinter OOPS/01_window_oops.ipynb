{
 "cells": [
  {
   "cell_type": "code",
   "execution_count": 1,
   "id": "3684d66d",
   "metadata": {},
   "outputs": [],
   "source": [
    "import tkinter as tk\n",
    "from tkinter import ttk\n",
    "from tkinter.messagebox import showinfo\n",
    "\n",
    "class App(tk.Tk):\n",
    "    def __init__(self):\n",
    "        super().__init__()\n",
    "        \n",
    "        # Configure the root window\n",
    "        self.title('Mahesh App')\n",
    "        self.geometry('300x50')\n",
    "        \n",
    "        #label \n",
    "        self.label = ttk.Label(self,text='Hello Mahesh !')\n",
    "        self.label.pack()\n",
    "        \n",
    "        #button\n",
    "        self.button = ttk.Button(self,text='Click me')\n",
    "        self.button['command'] = self.button_clicked\n",
    "        self.button.pack()\n",
    "    \n",
    "    def button_clicked(self):\n",
    "            showinfo(title='Information',message='Hello Mahesh !')\n",
    "    \n",
    "\n",
    "if __name__ == '__main__':\n",
    "    app = App()\n",
    "    app.mainloop()\n",
    "    "
   ]
  }
 ],
 "metadata": {
  "kernelspec": {
   "display_name": "Python 3",
   "language": "python",
   "name": "python3"
  },
  "language_info": {
   "codemirror_mode": {
    "name": "ipython",
    "version": 3
   },
   "file_extension": ".py",
   "mimetype": "text/x-python",
   "name": "python",
   "nbconvert_exporter": "python",
   "pygments_lexer": "ipython3",
   "version": "3.12.2"
  }
 },
 "nbformat": 4,
 "nbformat_minor": 5
}
