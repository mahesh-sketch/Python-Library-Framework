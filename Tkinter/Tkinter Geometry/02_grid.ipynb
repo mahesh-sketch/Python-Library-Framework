{
 "cells": [
  {
   "cell_type": "markdown",
   "id": "4d783248",
   "metadata": {},
   "source": [
    "- Use the columnconfigure() and rowconfigure() methods to specify the weight of a column and a row of a grid.\n",
    "- Use grid() method to position a widget on a grid.\n",
    "- Use sticky option to align the position of the widget on a cell and define how the widget will be stretched.\n",
    "- Use ipadx, ipady and padx, pady to add internal and external paddings."
   ]
  },
  {
   "cell_type": "code",
   "execution_count": 1,
   "id": "059e9d33",
   "metadata": {},
   "outputs": [],
   "source": [
    "import tkinter as tk\n",
    "from tkinter import ttk\n",
    "\n",
    "# main window\n",
    "root = tk.Tk()\n",
    "root.geometry(\"240x100\")\n",
    "root.title('Login')\n",
    "\n",
    "\n",
    "# grid 3x2\n",
    "root.rowconfigure(0, weight=1)\n",
    "root.rowconfigure(1, weight=1)\n",
    "root.rowconfigure(2, weight=1)\n",
    "root.columnconfigure(0, weight=1)\n",
    "root.columnconfigure(1, weight=3)\n",
    "\n",
    "\n",
    "# username\n",
    "username_label = ttk.Label(root, text=\"Username:\")\n",
    "username_label.grid(column=0, row=0, sticky=tk.EW, padx=5, pady=5)\n",
    "\n",
    "username_entry = ttk.Entry(root)\n",
    "username_entry.grid(column=1, row=0, sticky=tk.EW, padx=5, pady=5)\n",
    "\n",
    "# password\n",
    "password_label = ttk.Label(root, text=\"Password:\")\n",
    "password_label.grid(column=0, row=1, sticky=tk.EW, padx=5, pady=5)\n",
    "\n",
    "password_entry = ttk.Entry(root,  show=\"*\")\n",
    "password_entry.grid(column=1, row=1, sticky=tk.EW, padx=5, pady=5)\n",
    "\n",
    "# login button\n",
    "login_button = ttk.Button(root, text=\"Login\")\n",
    "login_button.grid(column=1, row=3, sticky=tk.E, padx=5, pady=5)\n",
    "\n",
    "\n",
    "root.mainloop()\n"
   ]
  }
 ],
 "metadata": {
  "kernelspec": {
   "display_name": "Python 3",
   "language": "python",
   "name": "python3"
  },
  "language_info": {
   "codemirror_mode": {
    "name": "ipython",
    "version": 3
   },
   "file_extension": ".py",
   "mimetype": "text/x-python",
   "name": "python",
   "nbconvert_exporter": "python",
   "pygments_lexer": "ipython3",
   "version": "3.12.2"
  }
 },
 "nbformat": 4,
 "nbformat_minor": 5
}
