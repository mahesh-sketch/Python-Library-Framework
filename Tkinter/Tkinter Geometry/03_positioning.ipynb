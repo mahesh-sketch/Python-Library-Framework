{
 "cells": [
  {
   "cell_type": "markdown",
   "id": "330c59cb",
   "metadata": {},
   "source": [
    "In absolute positioning, you specify the exact x and y coordinates of the widget using the x and y parameters:\n",
    "\n",
    "widget.place(x=50, y=50)\n",
    "\n",
    "In relative positioning, you place the widget using the relative coordinates using relx and rely parameters:\n",
    "\n",
    "widget.place(relx=0.5, rely=0.5, anchor=CENTER)"
   ]
  },
  {
   "cell_type": "code",
   "execution_count": 2,
   "id": "9a63ddb8",
   "metadata": {},
   "outputs": [],
   "source": [
    "import tkinter as tk\n",
    "\n",
    "root = tk.Tk()\n",
    "root.title('Tkinter Place Geometry Manager')\n",
    "root.geometry(\"600x400\")\n",
    "\n",
    "label1 = tk.Label(master=root, text=\"Place\",bg='red',fg='white')\n",
    "label1.place(relx=0.5, rely=0.5, width=100, height=50,anchor='center')\n",
    "\n",
    "root.mainloop()\n"
   ]
  }
 ],
 "metadata": {
  "kernelspec": {
   "display_name": "Python 3",
   "language": "python",
   "name": "python3"
  },
  "language_info": {
   "codemirror_mode": {
    "name": "ipython",
    "version": 3
   },
   "file_extension": ".py",
   "mimetype": "text/x-python",
   "name": "python",
   "nbconvert_exporter": "python",
   "pygments_lexer": "ipython3",
   "version": "3.12.2"
  }
 },
 "nbformat": 4,
 "nbformat_minor": 5
}
