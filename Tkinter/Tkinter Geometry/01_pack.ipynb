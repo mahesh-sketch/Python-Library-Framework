{
 "cells": [
  {
   "cell_type": "markdown",
   "id": "334e8e72",
   "metadata": {},
   "source": [
    "The pack geometry manager has many options:\n",
    "\n",
    "- Side\n",
    "- Expand\n",
    "- Fill\n",
    "- ipadx, ipady (vertical padding)\n",
    "- padx, pady (horizontal padding)\n",
    "- Anchor (n,s,w,e,nw,nw,se,sw,center)"
   ]
  },
  {
   "cell_type": "markdown",
   "id": "f163f85a",
   "metadata": {},
   "source": [
    "Side has four options:\n",
    "\n",
    "- 'top': arrange widgets from top to bottom vertically.\n",
    "- 'bottom': arrange widgets from bottom to top vertically.\n",
    "- 'left': arrange widgets from left to right horizontally.\n",
    "- 'right': arrange widgets from right to left horizontally.\n",
    "\n",
    "The side defaults to 'top', arranging the widget vertically from top to bottom."
   ]
  },
  {
   "cell_type": "code",
   "execution_count": null,
   "id": "506b1fe5",
   "metadata": {},
   "outputs": [],
   "source": [
    "import tkinter as tk\n",
    "\n",
    "root = tk.Tk()\n",
    "root.title('Tkinter Pack Layout')\n",
    "root.geometry('600x400')\n",
    "\n",
    "label1 = tk.Label(root, text='Tkinter',bg='red',fg='white')\n",
    "label2 = tk.Label(root,text='Pack Layout',bg='green', fg='white')\n",
    "label3 = tk.Label(root, text='Demo',bg='blue', fg='white')\n",
    "label4 = tk.Label(root,text='Is Here',bg='cyan',fg='white')\n",
    "\n",
    "label1.pack(side=tk.BOTTOM,expand=True) # occupies the entirely vertical space \n",
    "label2.pack(side=tk.TOP)\n",
    "label3.pack(side=tk.LEFT)\n",
    "label4.pack(side=tk.RIGHT)\n",
    "\n",
    "root.mainloop()"
   ]
  }
 ],
 "metadata": {
  "kernelspec": {
   "display_name": "Python 3",
   "language": "python",
   "name": "python3"
  },
  "language_info": {
   "codemirror_mode": {
    "name": "ipython",
    "version": 3
   },
   "file_extension": ".py",
   "mimetype": "text/x-python",
   "name": "python",
   "nbconvert_exporter": "python",
   "pygments_lexer": "ipython3",
   "version": "3.12.2"
  }
 },
 "nbformat": 4,
 "nbformat_minor": 5
}
