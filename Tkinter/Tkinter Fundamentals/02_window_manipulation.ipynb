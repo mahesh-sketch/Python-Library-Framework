{
 "cells": [
  {
   "cell_type": "markdown",
   "id": "18af45b2",
   "metadata": {},
   "source": [
    "Changing the window title "
   ]
  },
  {
   "cell_type": "code",
   "execution_count": 1,
   "id": "12b15669",
   "metadata": {},
   "outputs": [],
   "source": [
    "import tkinter as tk\n",
    "\n",
    "root = tk.Tk()\n",
    "root.title('Tkinter Window Demo')\n",
    "root.mainloop()"
   ]
  },
  {
   "cell_type": "markdown",
   "id": "d47c9599",
   "metadata": {},
   "source": [
    "Changing window size and location "
   ]
  },
  {
   "cell_type": "markdown",
   "id": "d14cfc28",
   "metadata": {},
   "source": [
    "window.geometry('widthxheight+or-x+or-y)\n",
    "\n",
    "- The width represents the window’s width in pixels.\n",
    "- The height represents the window’s height in pixels.\n",
    "- The x parameter denotes the window’s horizontal position. For example, a value of +50 signifies the left edge of the window should be positioned 50 pixels from the left edge of the screen. Conversely, a value of -50 indicates the right edge of the window should be 50 pixels from the right edge of the screen.\n",
    "- The y parameter denotes the window’s vertical position. For example, a value of +50 signifies the top edge of the window should be positioned 50 pixels below the top of the screen. Conversely, a value of -50 indicates the bottom edge of the window should be 50 pixels above the bottom of the screen."
   ]
  },
  {
   "cell_type": "code",
   "execution_count": 5,
   "id": "51d41f41",
   "metadata": {},
   "outputs": [],
   "source": [
    "import tkinter as tk\n",
    "\n",
    "root = tk.Tk()\n",
    "root.title('Tkinter Window Demo')\n",
    "root.geometry('600x400+50+50')\n",
    "root.resizable(False, False)\n",
    "\n",
    "root.mainloop()"
   ]
  }
 ],
 "metadata": {
  "kernelspec": {
   "display_name": "Python 3",
   "language": "python",
   "name": "python3"
  },
  "language_info": {
   "codemirror_mode": {
    "name": "ipython",
    "version": 3
   },
   "file_extension": ".py",
   "mimetype": "text/x-python",
   "name": "python",
   "nbconvert_exporter": "python",
   "pygments_lexer": "ipython3",
   "version": "3.12.2"
  }
 },
 "nbformat": 4,
 "nbformat_minor": 5
}
