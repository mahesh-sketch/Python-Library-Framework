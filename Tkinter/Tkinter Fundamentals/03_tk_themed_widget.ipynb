{
 "cells": [
  {
   "cell_type": "markdown",
   "id": "05a96380",
   "metadata": {},
   "source": [
    "Using the widget constructor when creating the widget "
   ]
  },
  {
   "cell_type": "code",
   "execution_count": 1,
   "id": "7cdf4645",
   "metadata": {},
   "outputs": [],
   "source": [
    "import tkinter as tk\n",
    "from tkinter import ttk\n",
    "\n",
    "root = tk.Tk()\n",
    "ttk.Label(root,text='Hi Mahesh').pack()\n",
    "\n",
    "root.mainloop()"
   ]
  },
  {
   "cell_type": "markdown",
   "id": "e389afd4",
   "metadata": {},
   "source": [
    "Using a dictionary index after widget creation "
   ]
  },
  {
   "cell_type": "code",
   "execution_count": 5,
   "id": "280cffd8",
   "metadata": {},
   "outputs": [],
   "source": [
    "import tkinter as tk\n",
    "from tkinter import ttk\n",
    "\n",
    "\n",
    "root = tk.Tk()\n",
    "\n",
    "label = ttk.Label(root)\n",
    "label['text'] = 'Hi, Mahesh'\n",
    "label.pack()\n",
    "\n",
    "root.mainloop()"
   ]
  },
  {
   "cell_type": "markdown",
   "id": "b8033576",
   "metadata": {},
   "source": [
    "Using the config() method with keyword arguments "
   ]
  },
  {
   "cell_type": "code",
   "execution_count": 4,
   "id": "a29333c0",
   "metadata": {},
   "outputs": [],
   "source": [
    "import tkinter as tk\n",
    "from tkinter import ttk\n",
    "\n",
    "\n",
    "root = tk.Tk()\n",
    "\n",
    "label = ttk.Label(root)\n",
    "label.config(text='Hi, Mahesh')\n",
    "label.pack()\n",
    "\n",
    "root.mainloop()"
   ]
  }
 ],
 "metadata": {
  "kernelspec": {
   "display_name": "Python 3",
   "language": "python",
   "name": "python3"
  },
  "language_info": {
   "codemirror_mode": {
    "name": "ipython",
    "version": 3
   },
   "file_extension": ".py",
   "mimetype": "text/x-python",
   "name": "python",
   "nbconvert_exporter": "python",
   "pygments_lexer": "ipython3",
   "version": "3.12.2"
  }
 },
 "nbformat": 4,
 "nbformat_minor": 5
}
