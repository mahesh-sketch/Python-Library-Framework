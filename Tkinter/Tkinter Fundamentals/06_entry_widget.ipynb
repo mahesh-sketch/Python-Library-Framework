{
 "cells": [
  {
   "cell_type": "code",
   "execution_count": 2,
   "id": "4be7f302",
   "metadata": {},
   "outputs": [],
   "source": [
    "import tkinter as tk\n",
    "from tkinter import ttk\n",
    "\n",
    "root = tk.Tk()\n",
    "root.geometry('300x200')\n",
    "root.title('Entry Widget Demo')\n",
    "\n",
    "name_label = ttk.Label(root,text='Name: ')\n",
    "name_label.pack(pady=2)\n",
    "\n",
    "name_entry = ttk.Entry(root)\n",
    "name_entry.pack(pady=5)\n",
    "name_entry.focus()\n",
    "\n",
    "email_label = ttk.Label(root,text='Email: ')\n",
    "email_label.pack(pady=2)\n",
    "\n",
    "email_entry = ttk.Entry(root)\n",
    "email_entry.pack(pady=5)\n",
    "\n",
    "password_label = ttk.Label(root, text='Password:')\n",
    "password_label.pack(pady=2)\n",
    "\n",
    "password_entry = ttk.Entry(root,show='*0')\n",
    "password_entry.pack(pady=5)\n",
    "\n",
    "root.mainloop()"
   ]
  },
  {
   "cell_type": "markdown",
   "id": "140b8203",
   "metadata": {},
   "source": [
    "Tracing text changes "
   ]
  },
  {
   "cell_type": "code",
   "execution_count": 3,
   "id": "210d3689",
   "metadata": {},
   "outputs": [],
   "source": [
    "import tkinter as tk\n",
    "from tkinter import ttk\n",
    "\n",
    "\n",
    "root = tk.Tk()\n",
    "root.title('Tracing Text')\n",
    "root.geometry(\"250x100\")\n",
    "\n",
    "\n",
    "name_var = tk.StringVar()\n",
    "name_entry = ttk.Entry(root, textvariable=name_var)\n",
    "name_entry.pack()\n",
    "name_entry.focus()\n",
    "\n",
    "\n",
    "output_label = ttk.Label(root)\n",
    "output_label.pack()\n",
    "\n",
    "name_var.trace_add(\n",
    "    \"write\", \n",
    "    lambda *args: output_label.config(text=name_var.get().upper())\n",
    ")\n",
    "\n",
    "root.mainloop()"
   ]
  }
 ],
 "metadata": {
  "kernelspec": {
   "display_name": "Python 3",
   "language": "python",
   "name": "python3"
  },
  "language_info": {
   "codemirror_mode": {
    "name": "ipython",
    "version": 3
   },
   "file_extension": ".py",
   "mimetype": "text/x-python",
   "name": "python",
   "nbconvert_exporter": "python",
   "pygments_lexer": "ipython3",
   "version": "3.12.2"
  }
 },
 "nbformat": 4,
 "nbformat_minor": 5
}
