{
 "cells": [
  {
   "cell_type": "markdown",
   "id": "0be34848",
   "metadata": {},
   "source": [
    "# Creating a window"
   ]
  },
  {
   "cell_type": "markdown",
   "id": "393808df",
   "metadata": {},
   "source": [
    "Create an instance of the tk.Tk class that will create the application window:\n",
    "\n",
    "The mainloop() method ensures the main window remains visible on the screen.\n",
    "\n",
    "If you don’t call the mainloop() method, the main window will display and disappear almost instantly – too quickly to perceive its appearance.\n",
    "\n",
    "Typically, in a Tkinter program, you place the call to the mainloop() method as the last statement after creating the widgets.\n"
   ]
  },
  {
   "cell_type": "code",
   "execution_count": 4,
   "id": "45b4defd",
   "metadata": {},
   "outputs": [],
   "source": [
    "import tkinter as tk\n",
    "\n",
    "root = tk.Tk()\n",
    "\n",
    "root.mainloop()"
   ]
  },
  {
   "cell_type": "markdown",
   "id": "5922e122",
   "metadata": {},
   "source": [
    "# Displaying a label \n"
   ]
  },
  {
   "cell_type": "markdown",
   "id": "3ab9bab8",
   "metadata": {},
   "source": [
    "To create a widget that belongs to a window, you use the following syntax:\n",
    "\n",
    "widget = WidgetName(master, **kw)\n",
    "\n",
    "In this syntax:\n",
    "\n",
    "- The master is the parent window or frame where you want to place the widget.\n",
    "- The kw is one or more keyword arguments that specify the configurations of the widget.\n",
    "\n",
    "message = tk.Label(root,text='Hello, World !')"
   ]
  },
  {
   "cell_type": "code",
   "execution_count": 7,
   "id": "92813135",
   "metadata": {},
   "outputs": [],
   "source": [
    "import tkinter as tk\n",
    "\n",
    "root = tk.Tk()\n",
    "\n",
    "message = tk.Label(root,text='Hello, World !')\n",
    "message.pack()\n",
    "\n",
    "root.mainloop()"
   ]
  }
 ],
 "metadata": {
  "kernelspec": {
   "display_name": "Python 3",
   "language": "python",
   "name": "python3"
  },
  "language_info": {
   "codemirror_mode": {
    "name": "ipython",
    "version": 3
   },
   "file_extension": ".py",
   "mimetype": "text/x-python",
   "name": "python",
   "nbconvert_exporter": "python",
   "pygments_lexer": "ipython3",
   "version": "3.12.2"
  }
 },
 "nbformat": 4,
 "nbformat_minor": 5
}
