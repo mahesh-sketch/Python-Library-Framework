{
 "cells": [
  {
   "cell_type": "markdown",
   "id": "f8442ea1",
   "metadata": {},
   "source": [
    "You need to associate widgets with events to make the application more interactive. The widgets can respond to the events such as:\n",
    "\n",
    "- Mouse clicks\n",
    "- Key presses\n",
    "\n",
    "This requires assigning a callback function to a specific event. When the event occurs, the callback will be invoked automatically to handle the event.\n",
    "\n",
    "In Tkinter, some widgets allow you to associate a callback function with an event using the command binding.\n",
    "\n",
    "This means that you can assign a function’s name to the widget’s command option so that when an event occurs on the widget, the function will be called automatically."
   ]
  },
  {
   "cell_type": "code",
   "execution_count": 1,
   "id": "aca3b620",
   "metadata": {},
   "outputs": [
    {
     "name": "stdout",
     "output_type": "stream",
     "text": [
      "Button Clicked\n"
     ]
    }
   ],
   "source": [
    "import tkinter as tk\n",
    "from tkinter import ttk\n",
    "\n",
    "root = tk.Tk()\n",
    "\n",
    "def button_clicked():\n",
    "    print('Button Clicked')\n",
    "\n",
    "button = ttk.Button(root,text='Click Me',command=button_clicked)\n",
    "button.pack()\n",
    "\n",
    "root.mainloop()"
   ]
  },
  {
   "cell_type": "markdown",
   "id": "b58c63fa",
   "metadata": {},
   "source": [
    "Limitations of command binding :\n",
    "\n",
    "- First, the command option isn’t available in all widgets; It is limited to the Button and some other widgets.\n",
    "\n",
    "- Second, the command button binds to the left click and the backspace but doesn’t bind to the Return key.\n",
    "\n",
    "- To check this you can move focus to a button in the program above and press the backspace and return keys.\n",
    "\n",
    "Unfortunately, this is not user-friendly, and you cannot change the binding of the command function easily.\n",
    "\n",
    "To overcome these limitations, Tkinter provides an alternative way of associating a function with an event called event binding."
   ]
  }
 ],
 "metadata": {
  "kernelspec": {
   "display_name": "Python 3",
   "language": "python",
   "name": "python3"
  },
  "language_info": {
   "codemirror_mode": {
    "name": "ipython",
    "version": 3
   },
   "file_extension": ".py",
   "mimetype": "text/x-python",
   "name": "python",
   "nbconvert_exporter": "python",
   "pygments_lexer": "ipython3",
   "version": "3.12.2"
  }
 },
 "nbformat": 4,
 "nbformat_minor": 5
}
