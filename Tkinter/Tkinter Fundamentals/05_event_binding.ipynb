{
 "cells": [
  {
   "cell_type": "markdown",
   "id": "cc11ab12",
   "metadata": {},
   "source": [
    "Assigning a function to an event of a widget is known as event binding. The assigned function will be invoked automatically when the event occurs.\n",
    "\n",
    "Not all Tkinter widgets support the command option.\n",
    "\n",
    "Therefore, Tkinter provides you with an alternative way for event binding via the bind() method.\n",
    "\n",
    "The following shows the general syntax of the bind() method:\n",
    "\n",
    "widget.bind(event, handler, add=None)"
   ]
  },
  {
   "cell_type": "code",
   "execution_count": 2,
   "id": "7924b76b",
   "metadata": {},
   "outputs": [
    {
     "name": "stdout",
     "output_type": "stream",
     "text": [
      "Return Key is pressed\n",
      "<KeyPress event send_event=True state=Mod1 keysym=Return keycode=13 char='\\r' x=58 y=9>\n",
      "Return Key is pressed\n",
      "<KeyPress event send_event=True state=Mod1 keysym=Return keycode=13 char='\\r' x=58 y=9>\n",
      "Return Key is pressed\n",
      "<KeyPress event send_event=True state=Mod1 keysym=Return keycode=13 char='\\r' x=63 y=11>\n"
     ]
    }
   ],
   "source": [
    "import tkinter as tk\n",
    "from tkinter import ttk\n",
    "\n",
    "\n",
    "def return_pressed(event):\n",
    "    print(\"Return Key is pressed\")\n",
    "    \n",
    "def log(event):\n",
    "    print(event)\n",
    "\n",
    "root = tk.Tk()\n",
    "\n",
    "btn = ttk.Button(root,text='Save')\n",
    "btn.bind('<Return>',return_pressed)\n",
    "btn.bind('<Return>',log,add='+')\n",
    "\n",
    "btn.focus()\n",
    "btn.pack(expand=True)\n",
    "\n",
    "root.mainloop()"
   ]
  }
 ],
 "metadata": {
  "kernelspec": {
   "display_name": "Python 3",
   "language": "python",
   "name": "python3"
  },
  "language_info": {
   "codemirror_mode": {
    "name": "ipython",
    "version": 3
   },
   "file_extension": ".py",
   "mimetype": "text/x-python",
   "name": "python",
   "nbconvert_exporter": "python",
   "pygments_lexer": "ipython3",
   "version": "3.12.2"
  }
 },
 "nbformat": 4,
 "nbformat_minor": 5
}
