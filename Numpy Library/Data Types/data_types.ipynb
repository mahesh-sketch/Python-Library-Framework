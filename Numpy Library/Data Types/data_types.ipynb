{
 "cells": [
  {
   "cell_type": "code",
   "execution_count": 1,
   "id": "4582c419",
   "metadata": {},
   "outputs": [],
   "source": [
    "import numpy as np"
   ]
  },
  {
   "cell_type": "markdown",
   "id": "5e300ee5",
   "metadata": {},
   "source": [
    "# Check Data Type of a NumPy Array"
   ]
  },
  {
   "cell_type": "code",
   "execution_count": 2,
   "id": "91b45052",
   "metadata": {},
   "outputs": [
    {
     "name": "stdout",
     "output_type": "stream",
     "text": [
      "int64\n",
      "int64\n",
      "float64\n",
      "complex128\n"
     ]
    }
   ],
   "source": [
    "array1 = np.array([1,2,3])\n",
    "print(array1.dtype)\n",
    "\n",
    "# create an array of  integers\n",
    "int_array = np.array([-3, -1, 0, 1])\n",
    "\n",
    "# create an array of floating-point numbers\n",
    "float_array = np.array([0.1, 0.2, 0.3])\n",
    "\n",
    "# create an array of complex numbers\n",
    "complex_array = np.array([1+2j, 2+3j, 3+4j])\n",
    "\n",
    "print(int_array.dtype)  \n",
    "\n",
    "print(float_array.dtype)  \n",
    "\n",
    "print(complex_array.dtype)"
   ]
  },
  {
   "cell_type": "markdown",
   "id": "bea43ca6",
   "metadata": {},
   "source": [
    "# Creating NumPy Arrays With a Defined Data Type"
   ]
  },
  {
   "cell_type": "code",
   "execution_count": 3,
   "id": "cf890486",
   "metadata": {},
   "outputs": [
    {
     "name": "stdout",
     "output_type": "stream",
     "text": [
      "[1 2 3] int32\n",
      "[1 3 7] int8\n",
      "[2 4 6] uint16\n",
      "[1.2 2.3 3.4] float32\n",
      "[1.+2.j 2.+3.j 3.+4.j] complex64\n"
     ]
    }
   ],
   "source": [
    "# create an array of 32-bit integers\n",
    "array2 = np.array([1,2,3],dtype='int32')\n",
    "print(array2,array2.dtype)\n",
    "\n",
    "# create an array of 8-bit integers\n",
    "array3 = np.array([1, 3, 7], dtype='int8')\n",
    "\n",
    "# create an array of unsigned 16-bit integers\n",
    "array4 = np.array([2, 4, 6], dtype='uint16')\n",
    "\n",
    "# create an array of 32-bit floating-point numbers\n",
    "array5 = np.array([1.2, 2.3, 3.4], dtype='float32')\n",
    "\n",
    "# create an array of 64-bit complex numbers\n",
    "array6 = np.array([1+2j, 2+3j, 3+4j], dtype='complex64')\n",
    "\n",
    "# print the arrays and their data types\n",
    "print(array3, array3.dtype)\n",
    "print(array4, array4.dtype)\n",
    "print(array5, array5.dtype)\n",
    "print(array6, array6.dtype)"
   ]
  },
  {
   "cell_type": "markdown",
   "id": "f93bfb45",
   "metadata": {},
   "source": [
    "# NumPy Type Conversion"
   ]
  },
  {
   "cell_type": "code",
   "execution_count": 4,
   "id": "241054f2",
   "metadata": {},
   "outputs": [
    {
     "name": "stdout",
     "output_type": "stream",
     "text": [
      "[1 3 5 7] int64\n",
      "[1. 3. 5. 7.] float64\n"
     ]
    }
   ],
   "source": [
    "int_array = np.array([1,3,5,7])\n",
    "\n",
    "# convert data type of int_array to float\n",
    "float_array = int_array.astype('float')\n",
    "\n",
    "print(int_array, int_array.dtype)\n",
    "print(float_array, float_array.dtype)\n"
   ]
  }
 ],
 "metadata": {
  "kernelspec": {
   "display_name": "Python 3",
   "language": "python",
   "name": "python3"
  },
  "language_info": {
   "codemirror_mode": {
    "name": "ipython",
    "version": 3
   },
   "file_extension": ".py",
   "mimetype": "text/x-python",
   "name": "python",
   "nbconvert_exporter": "python",
   "pygments_lexer": "ipython3",
   "version": "3.12.2"
  }
 },
 "nbformat": 4,
 "nbformat_minor": 5
}
