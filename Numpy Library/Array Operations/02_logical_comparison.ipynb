{
 "cells": [
  {
   "cell_type": "code",
   "execution_count": 1,
   "id": "f40e4f3a",
   "metadata": {},
   "outputs": [],
   "source": [
    "import numpy as np"
   ]
  },
  {
   "cell_type": "markdown",
   "id": "cbc6ced9",
   "metadata": {},
   "source": [
    "# NumPy Comparison Functions"
   ]
  },
  {
   "cell_type": "code",
   "execution_count": 3,
   "id": "0b7b5249",
   "metadata": {},
   "outputs": [
    {
     "name": "stdout",
     "output_type": "stream",
     "text": [
      "[ True False False]\n",
      "[ True  True False]\n",
      "[False False  True]\n",
      "[False  True  True]\n",
      "[ True False  True]\n"
     ]
    }
   ],
   "source": [
    "array1 = np.array([9, 12, 21])\n",
    "array2 = np.array([21, 12, 9])\n",
    "\n",
    "print(np.less(array1,array2))\n",
    "print(np.less_equal(array1,array2))\n",
    "print(np.greater(array1,array2))\n",
    "print(np.greater_equal(array1,array2))\n",
    "print(np.not_equal(array1,array2))\n",
    "\n"
   ]
  },
  {
   "cell_type": "markdown",
   "id": "ef58b6f1",
   "metadata": {},
   "source": [
    "# NumPy Logical Operations"
   ]
  },
  {
   "cell_type": "code",
   "execution_count": 4,
   "id": "934a785e",
   "metadata": {},
   "outputs": [
    {
     "name": "stdout",
     "output_type": "stream",
     "text": [
      "[False False  True]\n",
      "[ True False  True]\n",
      "[False  True False]\n",
      "[ True  True  True]\n"
     ]
    }
   ],
   "source": [
    "x1 = np.array([True, False, True])\n",
    "x2 = np.array([False, False, True])\n",
    "\n",
    "print(np.logical_and(x1,x2))\n",
    "print(np.logical_or(x1,x2))\n",
    "print(np.logical_not(x1,x2))\n",
    "print(np.logical_xor(x1,x2))"
   ]
  }
 ],
 "metadata": {
  "kernelspec": {
   "display_name": "Python 3",
   "language": "python",
   "name": "python3"
  },
  "language_info": {
   "codemirror_mode": {
    "name": "ipython",
    "version": 3
   },
   "file_extension": ".py",
   "mimetype": "text/x-python",
   "name": "python",
   "nbconvert_exporter": "python",
   "pygments_lexer": "ipython3",
   "version": "3.12.2"
  }
 },
 "nbformat": 4,
 "nbformat_minor": 5
}
