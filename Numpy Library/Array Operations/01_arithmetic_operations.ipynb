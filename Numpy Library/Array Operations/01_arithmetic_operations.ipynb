{
 "cells": [
  {
   "cell_type": "code",
   "execution_count": 5,
   "id": "ac3f0193",
   "metadata": {},
   "outputs": [],
   "source": [
    "import numpy as np"
   ]
  },
  {
   "cell_type": "markdown",
   "id": "95df554b",
   "metadata": {},
   "source": [
    "# NumPy Array Element-Wise Addition"
   ]
  },
  {
   "cell_type": "code",
   "execution_count": 6,
   "id": "fc1a9ca4",
   "metadata": {},
   "outputs": [
    {
     "name": "stdout",
     "output_type": "stream",
     "text": [
      "[ 3  7 11 15]\n",
      "[ 3  7 11 15]\n"
     ]
    }
   ],
   "source": [
    "first_array = np.array([1, 3, 5, 7])\n",
    "second_array = np.array([2, 4, 6, 8])\n",
    "\n",
    "# using the + operator\n",
    "print(first_array + second_array)\n",
    "\n",
    "# using the add() function\n",
    "print(np.add(first_array,second_array))"
   ]
  },
  {
   "cell_type": "markdown",
   "id": "c67d6b37",
   "metadata": {},
   "source": [
    "# NumPy Array Element-Wise Subtraction"
   ]
  },
  {
   "cell_type": "code",
   "execution_count": 7,
   "id": "17edbc20",
   "metadata": {},
   "outputs": [
    {
     "name": "stdout",
     "output_type": "stream",
     "text": [
      "[ 1  5 19 65]\n",
      "[ 1  5 19 65]\n"
     ]
    }
   ],
   "source": [
    "first_array = np.array([3, 9, 27, 81])\n",
    "second_array = np.array([2, 4, 8, 16])\n",
    "\n",
    "# using the - operator\n",
    "print(first_array - second_array)\n",
    "\n",
    "# using the subtract() function\n",
    "print(np.subtract(first_array,second_array))"
   ]
  },
  {
   "cell_type": "markdown",
   "id": "4f68d06f",
   "metadata": {},
   "source": [
    "# NumPy Array Element-Wise Multiplication"
   ]
  },
  {
   "cell_type": "code",
   "execution_count": 8,
   "id": "c4b447e8",
   "metadata": {},
   "outputs": [
    {
     "name": "stdout",
     "output_type": "stream",
     "text": [
      "[ 2 12 30 56]\n",
      "[ 2 12 30 56]\n"
     ]
    }
   ],
   "source": [
    "first_array = np.array([1, 3, 5, 7])\n",
    "second_array = np.array([2, 4, 6, 8])\n",
    "\n",
    "# using the * operator\n",
    "print(first_array * second_array)\n",
    "\n",
    "# using the multiply() function\n",
    "print(np.multiply(first_array,second_array))"
   ]
  },
  {
   "cell_type": "markdown",
   "id": "7c5f1257",
   "metadata": {},
   "source": [
    "# NumPy Array Element-Wise Division"
   ]
  },
  {
   "cell_type": "code",
   "execution_count": 9,
   "id": "849de62b",
   "metadata": {},
   "outputs": [
    {
     "name": "stdout",
     "output_type": "stream",
     "text": [
      "[0.25 0.4  0.5 ]\n",
      "[0.25 0.4  0.5 ]\n"
     ]
    }
   ],
   "source": [
    "first_array = np.array([1, 2, 3])\n",
    "second_array = np.array([4, 5, 6])\n",
    "\n",
    "# using the * operator\n",
    "print(first_array / second_array)\n",
    "\n",
    "# using the divide() function\n",
    "print(np.divide(first_array,second_array))"
   ]
  },
  {
   "cell_type": "markdown",
   "id": "cf870d1c",
   "metadata": {},
   "source": [
    "# NumPy Array Element-Wise Exponentiation"
   ]
  },
  {
   "cell_type": "code",
   "execution_count": 11,
   "id": "11c5e83e",
   "metadata": {},
   "outputs": [
    {
     "name": "stdout",
     "output_type": "stream",
     "text": [
      "[1 4 9]\n",
      "[1 4 9]\n"
     ]
    }
   ],
   "source": [
    "array1 = np.array([1, 2, 3])\n",
    "\n",
    "# using the ** operator\n",
    "print(array1 ** 2)\n",
    "\n",
    "# using the power() operator\n",
    "print(np.power(array1,2))\n"
   ]
  },
  {
   "cell_type": "markdown",
   "id": "474cdf82",
   "metadata": {},
   "source": [
    "# NumPy Array Element-Wise Modulus"
   ]
  },
  {
   "cell_type": "code",
   "execution_count": 12,
   "id": "4aa51312",
   "metadata": {},
   "outputs": [
    {
     "name": "stdout",
     "output_type": "stream",
     "text": [
      "[1 0 6]\n",
      "[1 0 6]\n"
     ]
    }
   ],
   "source": [
    "first_array = np.array([9, 10, 20])\n",
    "second_array = np.array([2, 5, 7])\n",
    "\n",
    "# using the % operator\n",
    "print(first_array % second_array)\n",
    "\n",
    "# using the mod() function\n",
    "print(np.mod(first_array,second_array))"
   ]
  }
 ],
 "metadata": {
  "kernelspec": {
   "display_name": "Python 3",
   "language": "python",
   "name": "python3"
  },
  "language_info": {
   "codemirror_mode": {
    "name": "ipython",
    "version": 3
   },
   "file_extension": ".py",
   "mimetype": "text/x-python",
   "name": "python",
   "nbconvert_exporter": "python",
   "pygments_lexer": "ipython3",
   "version": "3.12.2"
  }
 },
 "nbformat": 4,
 "nbformat_minor": 5
}
