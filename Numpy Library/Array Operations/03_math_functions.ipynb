{
 "cells": [
  {
   "cell_type": "code",
   "execution_count": 1,
   "id": "784555ef",
   "metadata": {},
   "outputs": [],
   "source": [
    "import numpy as np"
   ]
  },
  {
   "cell_type": "markdown",
   "id": "ee3d8608",
   "metadata": {},
   "source": [
    "# Trigonometric Functions"
   ]
  },
  {
   "cell_type": "code",
   "execution_count": 4,
   "id": "e4c4f1d8",
   "metadata": {},
   "outputs": [
    {
     "name": "stdout",
     "output_type": "stream",
     "text": [
      "Sine values: [0.         0.84147098 0.90929743]\n",
      "Inverse Sine values: [0.         1.57079633        nan]\n",
      "Angle in degrees: 90.0000001836389\n",
      "Angle in radians (after conversion): 1.57079633\n"
     ]
    },
    {
     "name": "stderr",
     "output_type": "stream",
     "text": [
      "C:\\Users\\ASUS\\AppData\\Local\\Temp\\ipykernel_15684\\2480440821.py:8: RuntimeWarning: invalid value encountered in arcsin\n",
      "  inverse_sine = np.arcsin(angles)\n"
     ]
    }
   ],
   "source": [
    "angles = np.array([0, 1, 2])\n",
    "\n",
    "# compute the sine of the angles\n",
    "sine_values = np.sin(angles)\n",
    "print(\"Sine values:\", sine_values)\n",
    "\n",
    "# compute the inverse sine of the angles\n",
    "inverse_sine = np.arcsin(angles)\n",
    "print(\"Inverse Sine values:\", inverse_sine)\n",
    "\n",
    "angle =  1.57079633\n",
    "# convert the angle to degrees\n",
    "angle_degree = np.degrees(angle)\n",
    "print(\"Angle in degrees:\", angle_degree)\n",
    "\n",
    "# convert the angle back to radians\n",
    "angle_radian = np.radians(angle_degree)\n",
    "print(\"Angle in radians (after conversion):\", angle_radian)"
   ]
  },
  {
   "cell_type": "markdown",
   "id": "4cd668fc",
   "metadata": {},
   "source": [
    "# Rounding Functions"
   ]
  },
  {
   "cell_type": "code",
   "execution_count": 5,
   "id": "db1864d3",
   "metadata": {},
   "outputs": [
    {
     "name": "stdout",
     "output_type": "stream",
     "text": [
      "[1. 2. 3. 4.]\n",
      "[1. 2. 3. 5.]\n",
      "[2. 3. 4. 5.]\n"
     ]
    }
   ],
   "source": [
    "numbers = np.array([1.23456, 2.34567, 3.45678, 4.56789])\n",
    "\n",
    "print(np.floor(numbers))\n",
    "print(np.round(numbers))\n",
    "print(np.ceil(numbers))"
   ]
  }
 ],
 "metadata": {
  "kernelspec": {
   "display_name": "Python 3",
   "language": "python",
   "name": "python3"
  },
  "language_info": {
   "codemirror_mode": {
    "name": "ipython",
    "version": 3
   },
   "file_extension": ".py",
   "mimetype": "text/x-python",
   "name": "python",
   "nbconvert_exporter": "python",
   "pygments_lexer": "ipython3",
   "version": "3.12.2"
  }
 },
 "nbformat": 4,
 "nbformat_minor": 5
}
