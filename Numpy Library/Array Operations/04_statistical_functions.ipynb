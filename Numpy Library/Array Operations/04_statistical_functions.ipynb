{
 "cells": [
  {
   "cell_type": "code",
   "execution_count": 9,
   "id": "cef678b7",
   "metadata": {},
   "outputs": [],
   "source": [
    "import numpy as np"
   ]
  },
  {
   "cell_type": "markdown",
   "id": "90a1fd5e",
   "metadata": {},
   "source": [
    "# Median Function"
   ]
  },
  {
   "cell_type": "code",
   "execution_count": 10,
   "id": "ab686edb",
   "metadata": {},
   "outputs": [
    {
     "name": "stdout",
     "output_type": "stream",
     "text": [
      "3.0\n",
      "3.5\n",
      "Median along horizontal axis:  [ 4. 10. 16.]\n",
      "Median along vertical axis:  [ 8. 10. 12.]\n"
     ]
    }
   ],
   "source": [
    "# Compute Median for Odd Number of Elements\n",
    "array1 = np.array([1, 2, 3, 4, 5])\n",
    "print(np.median(array1))\n",
    "\n",
    "# Compute Median for Even Number of Elements\n",
    "array2 = np.array([1, 2, 3, 4, 5, 7])\n",
    "print(np.median(array2))\n",
    "\n",
    "# Median of NumPy 2D Array\n",
    "array3 = np.array([[2, 4, 6], \n",
    "                   [8, 10, 12], \n",
    "                   [14, 16, 18]])\n",
    "\n",
    "print(\"Median along horizontal axis: \",np.median(array3,axis=1))\n",
    "print(\"Median along vertical axis: \",np.median(array3,axis=0))"
   ]
  },
  {
   "cell_type": "markdown",
   "id": "675cbd53",
   "metadata": {},
   "source": [
    "# Mean Function"
   ]
  },
  {
   "cell_type": "code",
   "execution_count": 11,
   "id": "b8a32f78",
   "metadata": {},
   "outputs": [
    {
     "name": "stdout",
     "output_type": "stream",
     "text": [
      "77.2\n",
      "Mean along horizontal axis:  [ 4. 10. 16.]\n",
      "Mean along vertical axis:  [ 8. 10. 12.]\n"
     ]
    }
   ],
   "source": [
    "marks = np.array([76, 78, 81, 66, 85])\n",
    "print(marks.mean())\n",
    "\n",
    "array4 = np.array([[2, 4, 6], \n",
    "                   [8, 10, 12], \n",
    "                   [14, 16, 18]])\n",
    "\n",
    "print(\"Mean along horizontal axis: \",np.mean(array3,axis=1))\n",
    "print(\"Mean along vertical axis: \",np.mean(array3,axis=0))"
   ]
  },
  {
   "cell_type": "markdown",
   "id": "d23ebd1d",
   "metadata": {},
   "source": [
    "# Standard Deviation"
   ]
  },
  {
   "cell_type": "code",
   "execution_count": null,
   "id": "a60833ab",
   "metadata": {},
   "outputs": [
    {
     "name": "stdout",
     "output_type": "stream",
     "text": [
      "6.368673331236263\n",
      "77.2\n"
     ]
    }
   ],
   "source": [
    "marks = np.array([76, 78, 81, 66, 85])\n",
    "\n",
    "print(np.std(marks))\n",
    "print(np.mean(marks))"
   ]
  },
  {
   "cell_type": "markdown",
   "id": "acfcc043",
   "metadata": {},
   "source": [
    "# Percentile"
   ]
  },
  {
   "cell_type": "code",
   "execution_count": 14,
   "id": "41aff685",
   "metadata": {},
   "outputs": [
    {
     "name": "stdout",
     "output_type": "stream",
     "text": [
      "5.5\n"
     ]
    }
   ],
   "source": [
    "array4 = np.array([1, 3, 5, 7, 9, 11, 13, 15, 17, 19])\n",
    "print(np.percentile(array4,25))"
   ]
  },
  {
   "cell_type": "markdown",
   "id": "abef32bd",
   "metadata": {},
   "source": [
    "# Min and Max"
   ]
  },
  {
   "cell_type": "code",
   "execution_count": 16,
   "id": "d136f9bd",
   "metadata": {},
   "outputs": [
    {
     "name": "stdout",
     "output_type": "stream",
     "text": [
      "Min:  1\n",
      "Max:  19\n"
     ]
    }
   ],
   "source": [
    "array5 = np.array([1, 3, 5, 7, 9, 11, 13, 15, 17, 19])\n",
    "\n",
    "print(\"Min: \",array5.min())\n",
    "print(\"Max: \",array5.max())\n"
   ]
  }
 ],
 "metadata": {
  "kernelspec": {
   "display_name": "Python 3",
   "language": "python",
   "name": "python3"
  },
  "language_info": {
   "codemirror_mode": {
    "name": "ipython",
    "version": 3
   },
   "file_extension": ".py",
   "mimetype": "text/x-python",
   "name": "python",
   "nbconvert_exporter": "python",
   "pygments_lexer": "ipython3",
   "version": "3.12.2"
  }
 },
 "nbformat": 4,
 "nbformat_minor": 5
}
