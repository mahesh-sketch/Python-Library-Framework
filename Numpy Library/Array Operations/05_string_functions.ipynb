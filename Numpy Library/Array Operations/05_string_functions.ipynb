{
 "cells": [
  {
   "cell_type": "code",
   "execution_count": 1,
   "id": "7a6522ff",
   "metadata": {},
   "outputs": [],
   "source": [
    "import numpy as np"
   ]
  },
  {
   "cell_type": "markdown",
   "id": "f8f329fb",
   "metadata": {},
   "source": [
    "# NumPy String add() Function"
   ]
  },
  {
   "cell_type": "code",
   "execution_count": 2,
   "id": "72974b2b",
   "metadata": {},
   "outputs": [
    {
     "name": "stdout",
     "output_type": "stream",
     "text": [
      "['iPhone: 15' 'price: $900']\n"
     ]
    }
   ],
   "source": [
    "array1 = np.array(['iPhone: ', 'price: '])\n",
    "array2 = np.array(['15', '$900'])\n",
    "\n",
    "# perform element-wise array string concatenation\n",
    "print(np.char.add(array1,array2))"
   ]
  },
  {
   "cell_type": "markdown",
   "id": "33a20cc3",
   "metadata": {},
   "source": [
    "# NumPy String multiply() Function\n"
   ]
  },
  {
   "cell_type": "code",
   "execution_count": null,
   "id": "fd8e6546",
   "metadata": {},
   "outputs": [
    {
     "name": "stdout",
     "output_type": "stream",
     "text": [
      "['AA' 'BB' 'CC']\n"
     ]
    }
   ],
   "source": [
    "array3 = np.array(['A', 'B', 'C']) \n",
    "\n",
    "#  repeat each element in array3 two times\n",
    "print(np.char.multiply(array3,2))"
   ]
  },
  {
   "cell_type": "markdown",
   "id": "9b8e0fc7",
   "metadata": {},
   "source": [
    "# NumPy String capitalize() Function\n"
   ]
  },
  {
   "cell_type": "code",
   "execution_count": 4,
   "id": "2ff92a69",
   "metadata": {},
   "outputs": [
    {
     "name": "stdout",
     "output_type": "stream",
     "text": [
      "['Eric' 'Paul' 'Sean']\n"
     ]
    }
   ],
   "source": [
    "array4 = np.array(['eric', 'paul', 'sean'])  \n",
    "\n",
    "# capitalize the first letter of each string in array4\n",
    "print(np.char.capitalize(array4))"
   ]
  },
  {
   "cell_type": "markdown",
   "id": "92fc86a5",
   "metadata": {},
   "source": [
    "# NumPy String upper() and lower() Function"
   ]
  },
  {
   "cell_type": "code",
   "execution_count": 5,
   "id": "c11270c4",
   "metadata": {},
   "outputs": [
    {
     "name": "stdout",
     "output_type": "stream",
     "text": [
      "['NEPALI' 'AMERICAN' 'CANADIAN']\n",
      "['nepali' 'american' 'canadian']\n"
     ]
    }
   ],
   "source": [
    "array5 = np.array(['nEpalI', 'AmeriCAN', 'CaNadIan'])\n",
    "\n",
    "print(np.char.upper(array5))\n",
    "print(np.char.lower(array5))\n"
   ]
  },
  {
   "cell_type": "markdown",
   "id": "3001937c",
   "metadata": {},
   "source": [
    "# NumPy String join() Function"
   ]
  },
  {
   "cell_type": "code",
   "execution_count": 6,
   "id": "b90df51b",
   "metadata": {},
   "outputs": [
    {
     "name": "stdout",
     "output_type": "stream",
     "text": [
      "['h-e-l-l-o' 'w-o-r-l-d']\n"
     ]
    }
   ],
   "source": [
    "array6 = np.array(['hello', 'world'])\n",
    "\n",
    "# join the strings in the array using a dash as the delimiter\n",
    "print(np.char.join('-',array6))\n"
   ]
  },
  {
   "cell_type": "markdown",
   "id": "73879349",
   "metadata": {},
   "source": [
    "# NumPy String equal() Function"
   ]
  },
  {
   "cell_type": "code",
   "execution_count": 7,
   "id": "7fd6f15e",
   "metadata": {},
   "outputs": [
    {
     "name": "stdout",
     "output_type": "stream",
     "text": [
      "[False  True False]\n"
     ]
    }
   ],
   "source": [
    "array7 = np.array(['C', 'Python', 'Swift'])\n",
    "array8 = np.array(['C++', 'Python', 'Java'])\n",
    "\n",
    "# check if each element of the arrays is equal\n",
    "print(np.char.equal(array7,array8))"
   ]
  }
 ],
 "metadata": {
  "kernelspec": {
   "display_name": "Python 3",
   "language": "python",
   "name": "python3"
  },
  "language_info": {
   "codemirror_mode": {
    "name": "ipython",
    "version": 3
   },
   "file_extension": ".py",
   "mimetype": "text/x-python",
   "name": "python",
   "nbconvert_exporter": "python",
   "pygments_lexer": "ipython3",
   "version": "3.12.2"
  }
 },
 "nbformat": 4,
 "nbformat_minor": 5
}
