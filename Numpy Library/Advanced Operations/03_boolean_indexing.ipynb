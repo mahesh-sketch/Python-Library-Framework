{
 "cells": [
  {
   "cell_type": "code",
   "execution_count": 1,
   "id": "5b56da83",
   "metadata": {},
   "outputs": [],
   "source": [
    "import numpy as np"
   ]
  },
  {
   "cell_type": "markdown",
   "id": "1cb8bd16",
   "metadata": {},
   "source": [
    "In NumPy, boolean indexing allows us to filter elements from an array based on a specific condition.\n",
    "\n",
    "We use boolean masks to specify the condition."
   ]
  },
  {
   "cell_type": "code",
   "execution_count": 2,
   "id": "fb911de6",
   "metadata": {},
   "outputs": [
    {
     "name": "stdout",
     "output_type": "stream",
     "text": [
      "[1 3 5 7 9]\n"
     ]
    }
   ],
   "source": [
    "array1 = np.array([1, 2, 3, 4, 5, 6, 7, 8, 9, 10])\n",
    "\n",
    "# create a boolean mask\n",
    "boolean_mask = array1 % 2 != 0\n",
    "\n",
    "# boolean indexing to filter the odd numbers\n",
    "result = array1[boolean_mask]\n",
    "\n",
    "print(result)"
   ]
  }
 ],
 "metadata": {
  "kernelspec": {
   "display_name": "Python 3",
   "language": "python",
   "name": "python3"
  },
  "language_info": {
   "codemirror_mode": {
    "name": "ipython",
    "version": 3
   },
   "file_extension": ".py",
   "mimetype": "text/x-python",
   "name": "python",
   "nbconvert_exporter": "python",
   "pygments_lexer": "ipython3",
   "version": "3.12.2"
  }
 },
 "nbformat": 4,
 "nbformat_minor": 5
}
