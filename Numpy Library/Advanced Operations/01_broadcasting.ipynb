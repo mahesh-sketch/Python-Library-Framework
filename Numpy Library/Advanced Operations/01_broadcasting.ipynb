{
 "cells": [
  {
   "cell_type": "code",
   "execution_count": 1,
   "id": "216d78d9",
   "metadata": {},
   "outputs": [],
   "source": [
    "import numpy as np"
   ]
  },
  {
   "cell_type": "code",
   "execution_count": 2,
   "id": "184fc94a",
   "metadata": {},
   "outputs": [
    {
     "name": "stdout",
     "output_type": "stream",
     "text": [
      "[[2 3 4]\n",
      " [3 4 5]\n",
      " [4 5 6]]\n"
     ]
    }
   ],
   "source": [
    "array1 = np.array([1, 2, 3])\n",
    "\n",
    "array2 = np.array([[1], [2], [3]])\n",
    "print(array1 + array2)"
   ]
  },
  {
   "cell_type": "markdown",
   "id": "38e35e9b",
   "metadata": {},
   "source": [
    "Broadcasting only works with compatible arrays. NumPy compares a set of array dimensions from right to left.\n",
    "\n",
    "Every set of dimensions must be compatible with the arrays to be broadcastable. A set of dimension lengths is compatible when\n",
    "\n",
    "* one of them has a length of 1 or\n",
    "* they are equal\n",
    "Let's see an example.\n",
    "\n",
    "array1 = shape(6, 7)\n",
    "array2 = shape(6, 1)\n",
    "Here, array1 and array2 are arrays with different dimensions (6,7) and (6,1) respectively.\n",
    "\n",
    "The dimension length 7 and 1 are compatible because one of them is 1.\n",
    "\n",
    "Similarly, 6 and 6 are compatible since they are the same.\n",
    "\n",
    "As both sets of dimensions are compatible, the arrays are broadcastable.\n"
   ]
  }
 ],
 "metadata": {
  "kernelspec": {
   "display_name": "Python 3",
   "language": "python",
   "name": "python3"
  },
  "language_info": {
   "codemirror_mode": {
    "name": "ipython",
    "version": 3
   },
   "file_extension": ".py",
   "mimetype": "text/x-python",
   "name": "python",
   "nbconvert_exporter": "python",
   "pygments_lexer": "ipython3",
   "version": "3.12.2"
  }
 },
 "nbformat": 4,
 "nbformat_minor": 5
}
