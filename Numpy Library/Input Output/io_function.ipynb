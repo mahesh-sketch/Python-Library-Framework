{
 "cells": [
  {
   "cell_type": "code",
   "execution_count": 1,
   "id": "cf53517a",
   "metadata": {},
   "outputs": [],
   "source": [
    "import numpy as np"
   ]
  },
  {
   "cell_type": "markdown",
   "id": "55a58f95",
   "metadata": {},
   "source": [
    "# NumPy save() Function"
   ]
  },
  {
   "cell_type": "code",
   "execution_count": 5,
   "id": "795a6ff9",
   "metadata": {},
   "outputs": [],
   "source": [
    "array1 = np.array([[1,2,3],[4,5,6]])\n",
    "\n",
    "# save the array to a file\n",
    "np.save('file1.npy',array1)"
   ]
  },
  {
   "cell_type": "markdown",
   "id": "483ffca9",
   "metadata": {},
   "source": [
    "# NumPy load() Function"
   ]
  },
  {
   "cell_type": "code",
   "execution_count": 6,
   "id": "6be228a6",
   "metadata": {},
   "outputs": [
    {
     "name": "stdout",
     "output_type": "stream",
     "text": [
      "[[1 2 3]\n",
      " [4 5 6]]\n"
     ]
    }
   ],
   "source": [
    "# load the saved NumPy array\n",
    "loaded_array = np.load('file1.npy')\n",
    "\n",
    "# display the loaded array\n",
    "print(loaded_array)"
   ]
  },
  {
   "cell_type": "markdown",
   "id": "1dbaa791",
   "metadata": {},
   "source": [
    "# NumPy savetxt() Function"
   ]
  },
  {
   "cell_type": "code",
   "execution_count": 7,
   "id": "4051bde9",
   "metadata": {},
   "outputs": [],
   "source": [
    "array2 = np.array([[1, 3, 5],[7, 9, 11]])\n",
    "\n",
    "# save the array to a file\n",
    "np.savetxt('file2.txt',array2)\n"
   ]
  },
  {
   "cell_type": "markdown",
   "id": "1c18acbc",
   "metadata": {},
   "source": [
    "# NumPy loadtxt() Function"
   ]
  },
  {
   "cell_type": "code",
   "execution_count": 8,
   "id": "6fad7ece",
   "metadata": {},
   "outputs": [
    {
     "name": "stdout",
     "output_type": "stream",
     "text": [
      "[[ 1.  3.  5.]\n",
      " [ 7.  9. 11.]]\n"
     ]
    }
   ],
   "source": [
    "print(np.loadtxt('file2.txt'))"
   ]
  }
 ],
 "metadata": {
  "kernelspec": {
   "display_name": "Python 3",
   "language": "python",
   "name": "python3"
  },
  "language_info": {
   "codemirror_mode": {
    "name": "ipython",
    "version": 3
   },
   "file_extension": ".py",
   "mimetype": "text/x-python",
   "name": "python",
   "nbconvert_exporter": "python",
   "pygments_lexer": "ipython3",
   "version": "3.12.2"
  }
 },
 "nbformat": 4,
 "nbformat_minor": 5
}
