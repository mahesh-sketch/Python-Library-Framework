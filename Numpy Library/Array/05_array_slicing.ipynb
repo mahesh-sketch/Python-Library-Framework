{
 "cells": [
  {
   "cell_type": "code",
   "execution_count": 1,
   "id": "98b19ffd",
   "metadata": {},
   "outputs": [],
   "source": [
    "import numpy as np"
   ]
  },
  {
   "cell_type": "markdown",
   "id": "c1d2b306",
   "metadata": {},
   "source": [
    "# 1D NumPy Array Slicing"
   ]
  },
  {
   "cell_type": "code",
   "execution_count": 7,
   "id": "62742f53",
   "metadata": {},
   "outputs": [
    {
     "name": "stdout",
     "output_type": "stream",
     "text": [
      "[5 7 8 9]\n",
      "[1 5 8 2]\n",
      "[7 8 9 2 4 6]\n",
      "[1 3 5 7 8 9 2 4 6]\n"
     ]
    }
   ],
   "source": [
    "array1 = np.array([1, 3, 5, 7, 8, 9, 2, 4, 6])\n",
    "\n",
    "# slice array1 from index 2 to index 6 (exclusive)\n",
    "print(array1[2:6])\n",
    "\n",
    "# slice array1 from index 0 to index 8 (exclusive) with a step size of 2\n",
    "print(array1[:8:2])\n",
    "\n",
    "# slice array1 from index 3 up to the last element\n",
    "print(array1[3:])\n",
    "\n",
    "# items from start to end\n",
    "print(array1[:])"
   ]
  },
  {
   "cell_type": "markdown",
   "id": "36420177",
   "metadata": {},
   "source": [
    "# Modify Array Elements Using Slicing"
   ]
  },
  {
   "cell_type": "code",
   "execution_count": 10,
   "id": "0f004baa",
   "metadata": {},
   "outputs": [
    {
     "name": "stdout",
     "output_type": "stream",
     "text": [
      "[ 2  4  6 20 20 20]\n",
      "[40 40 40 20 20 20]\n",
      "[40 40 22 22 22 20]\n"
     ]
    }
   ],
   "source": [
    "array2 = np.array([2, 4, 6, 8, 10, 12])\n",
    "\n",
    "# modify elements from index 3 onwards\n",
    "array2[3:] = 20\n",
    "print(array2)\n",
    "\n",
    "# modify the first 3 elements\n",
    "array2[:3] = 40\n",
    "print(array2)\n",
    "\n",
    "# modify elements from indices 2 to 5\n",
    "array2[2:5] = 22\n",
    "print(array2)"
   ]
  },
  {
   "cell_type": "markdown",
   "id": "2f3c7a05",
   "metadata": {},
   "source": [
    "# 2D NumPy Array Slicing"
   ]
  },
  {
   "cell_type": "code",
   "execution_count": 12,
   "id": "28341cec",
   "metadata": {},
   "outputs": [
    {
     "name": "stdout",
     "output_type": "stream",
     "text": [
      "[[ 1  3]\n",
      " [ 9 11]]\n",
      "[[13 15]\n",
      " [ 6  8]]\n"
     ]
    }
   ],
   "source": [
    "array3 = np.array([[1, 3, 5, 7], [9, 11, 13, 15], [2, 4, 6, 8]])\n",
    "\n",
    "# slice the array to get the first two rows and columns\n",
    "print(array3[:2, :2])\n",
    "\n",
    "# slice the array to get the last two rows and columns\n",
    "print(array3[1:3, 2:4])"
   ]
  }
 ],
 "metadata": {
  "kernelspec": {
   "display_name": "Python 3",
   "language": "python",
   "name": "python3"
  },
  "language_info": {
   "codemirror_mode": {
    "name": "ipython",
    "version": 3
   },
   "file_extension": ".py",
   "mimetype": "text/x-python",
   "name": "python",
   "nbconvert_exporter": "python",
   "pygments_lexer": "ipython3",
   "version": "3.12.2"
  }
 },
 "nbformat": 4,
 "nbformat_minor": 5
}
