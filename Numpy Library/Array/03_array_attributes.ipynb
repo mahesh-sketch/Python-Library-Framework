{
 "cells": [
  {
   "cell_type": "code",
   "execution_count": 3,
   "id": "d46af7e2",
   "metadata": {},
   "outputs": [],
   "source": [
    "import numpy as np"
   ]
  },
  {
   "cell_type": "markdown",
   "id": "fe409354",
   "metadata": {},
   "source": [
    "# Numpy Array ndim Attribute"
   ]
  },
  {
   "cell_type": "code",
   "execution_count": 4,
   "id": "45445946",
   "metadata": {},
   "outputs": [
    {
     "name": "stdout",
     "output_type": "stream",
     "text": [
      "2\n"
     ]
    }
   ],
   "source": [
    "array1 = np.array([[2, 4, 6],[1, 3, 5]])\n",
    "\n",
    "# check the dimension of array1\n",
    "print(array1.ndim)"
   ]
  },
  {
   "cell_type": "markdown",
   "id": "7a21a94b",
   "metadata": {},
   "source": [
    "# NumPy Array size Attribute"
   ]
  },
  {
   "cell_type": "code",
   "execution_count": 5,
   "id": "105e835c",
   "metadata": {},
   "outputs": [
    {
     "name": "stdout",
     "output_type": "stream",
     "text": [
      "8\n"
     ]
    }
   ],
   "source": [
    "array2 = np.array([[1,2,3,4],[5,6,7,8]])\n",
    "\n",
    "# return total number of elements \n",
    "print(array2.size)"
   ]
  },
  {
   "cell_type": "markdown",
   "id": "a9d787eb",
   "metadata": {},
   "source": [
    "# NumPy Array shape Attribute"
   ]
  },
  {
   "cell_type": "code",
   "execution_count": null,
   "id": "5ef0dc4a",
   "metadata": {},
   "outputs": [
    {
     "name": "stdout",
     "output_type": "stream",
     "text": [
      "(2, 4)\n"
     ]
    }
   ],
   "source": [
    "array3 = np.array([[1,2,3,4],[5,6,7,8]])\n",
    "\n",
    "# return a tuple that gives size of array in each dimension\n",
    "print(array3.shape)"
   ]
  }
 ],
 "metadata": {
  "kernelspec": {
   "display_name": "Python 3",
   "language": "python",
   "name": "python3"
  },
  "language_info": {
   "codemirror_mode": {
    "name": "ipython",
    "version": 3
   },
   "file_extension": ".py",
   "mimetype": "text/x-python",
   "name": "python",
   "nbconvert_exporter": "python",
   "pygments_lexer": "ipython3",
   "version": "3.12.2"
  }
 },
 "nbformat": 4,
 "nbformat_minor": 5
}
