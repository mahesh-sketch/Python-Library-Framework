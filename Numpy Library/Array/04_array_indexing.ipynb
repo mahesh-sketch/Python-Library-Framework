{
 "cells": [
  {
   "cell_type": "code",
   "execution_count": 1,
   "id": "51591b21",
   "metadata": {},
   "outputs": [],
   "source": [
    "import numpy as np"
   ]
  },
  {
   "cell_type": "markdown",
   "id": "fc48c374",
   "metadata": {},
   "source": [
    "# Access Array Elements Using Index\n"
   ]
  },
  {
   "cell_type": "code",
   "execution_count": 2,
   "id": "e2f34436",
   "metadata": {},
   "outputs": [
    {
     "name": "stdout",
     "output_type": "stream",
     "text": [
      "5\n"
     ]
    }
   ],
   "source": [
    "array1 = np.array([1, 3, 5, 7, 9])\n",
    "\n",
    "print(array1[2])"
   ]
  },
  {
   "cell_type": "markdown",
   "id": "ece0370e",
   "metadata": {},
   "source": [
    "# Modify Array Elements Using Index\n"
   ]
  },
  {
   "cell_type": "code",
   "execution_count": 3,
   "id": "2e8e99af",
   "metadata": {},
   "outputs": [
    {
     "name": "stdout",
     "output_type": "stream",
     "text": [
      "After modifying first element: [12  4  6  8 10]\n"
     ]
    }
   ],
   "source": [
    "array2 = np.array([2, 4, 6, 8, 10])\n",
    "\n",
    "# change the value of the first element\n",
    "array2[0] = 12\n",
    "print(\"After modifying first element:\",array2)"
   ]
  },
  {
   "cell_type": "markdown",
   "id": "267c291e",
   "metadata": {},
   "source": [
    "# NumPy Negative Array Indexing"
   ]
  },
  {
   "cell_type": "code",
   "execution_count": 5,
   "id": "cf7bd983",
   "metadata": {},
   "outputs": [
    {
     "name": "stdout",
     "output_type": "stream",
     "text": [
      "5\n"
     ]
    }
   ],
   "source": [
    "array3 = np.array([1,2,3,4,5])\n",
    "\n",
    "# access the last element\n",
    "print(array3[-1])"
   ]
  },
  {
   "cell_type": "markdown",
   "id": "35ca24d4",
   "metadata": {},
   "source": [
    "# Modify Array Elements Using Negative Indexing"
   ]
  },
  {
   "cell_type": "code",
   "execution_count": 6,
   "id": "9ed4bc4a",
   "metadata": {},
   "outputs": [
    {
     "name": "stdout",
     "output_type": "stream",
     "text": [
      "[ 2  3  5 17 11]\n"
     ]
    }
   ],
   "source": [
    "array4 = np.array([2, 3, 5, 7, 11])\n",
    "\n",
    "# modify the second-to-last element\n",
    "array4[-2] = 17\n",
    "print(array4)"
   ]
  },
  {
   "cell_type": "markdown",
   "id": "ecb5b714",
   "metadata": {},
   "source": [
    "# 2-D NumPy Array Indexing"
   ]
  },
  {
   "cell_type": "code",
   "execution_count": 7,
   "id": "3418fa97",
   "metadata": {},
   "outputs": [
    {
     "name": "stdout",
     "output_type": "stream",
     "text": [
      "2\n"
     ]
    }
   ],
   "source": [
    "array5 = np.array([[1,3,5],[7,9,2],[4,6,8]])\n",
    "\n",
    "# access the element at the second row and third column\n",
    "print(array5[1,2])"
   ]
  },
  {
   "cell_type": "markdown",
   "id": "c1ffe36d",
   "metadata": {},
   "source": [
    "# Access Row or Column of 2D Array Using Indexing"
   ]
  },
  {
   "cell_type": "code",
   "execution_count": 9,
   "id": "ee26ec81",
   "metadata": {},
   "outputs": [
    {
     "name": "stdout",
     "output_type": "stream",
     "text": [
      "[7 9 2]\n"
     ]
    }
   ],
   "source": [
    "array6 =  np.array([[1,3,5],[7,9,2],[4,6,8]])\n",
    "\n",
    "# access the second row of the array\n",
    "print(array6[1,:])"
   ]
  }
 ],
 "metadata": {
  "kernelspec": {
   "display_name": "Python 3",
   "language": "python",
   "name": "python3"
  },
  "language_info": {
   "codemirror_mode": {
    "name": "ipython",
    "version": 3
   },
   "file_extension": ".py",
   "mimetype": "text/x-python",
   "name": "python",
   "nbconvert_exporter": "python",
   "pygments_lexer": "ipython3",
   "version": "3.12.2"
  }
 },
 "nbformat": 4,
 "nbformat_minor": 5
}
