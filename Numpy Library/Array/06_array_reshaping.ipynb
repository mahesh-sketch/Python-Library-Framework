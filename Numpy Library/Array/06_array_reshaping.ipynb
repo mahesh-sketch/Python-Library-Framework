{
 "cells": [
  {
   "cell_type": "code",
   "execution_count": 1,
   "id": "e476205a",
   "metadata": {},
   "outputs": [],
   "source": [
    "import numpy as np"
   ]
  },
  {
   "cell_type": "markdown",
   "id": "39242940",
   "metadata": {},
   "source": [
    "# Reshape 1D Array to 2D Array in NumPy"
   ]
  },
  {
   "cell_type": "code",
   "execution_count": 2,
   "id": "83dfea02",
   "metadata": {},
   "outputs": [
    {
     "name": "stdout",
     "output_type": "stream",
     "text": [
      "[[1 3 5 7]\n",
      " [2 4 6 8]]\n"
     ]
    }
   ],
   "source": [
    "array1 = np.array([1, 3, 5, 7, 2, 4, 6, 8])\n",
    "\n",
    "# reshape a 1D array into a 2D array with 2 rows and 4 columns\n",
    "print(array1.reshape(2,4))"
   ]
  },
  {
   "cell_type": "markdown",
   "id": "f0db7a3a",
   "metadata": {},
   "source": [
    "# Reshape 1D Array to 3D Array in NumPy"
   ]
  },
  {
   "cell_type": "code",
   "execution_count": 3,
   "id": "0915a09b",
   "metadata": {},
   "outputs": [
    {
     "name": "stdout",
     "output_type": "stream",
     "text": [
      "[[[1 3]\n",
      "  [5 7]]\n",
      "\n",
      " [[2 4]\n",
      "  [6 8]]]\n"
     ]
    }
   ],
   "source": [
    "array2 = np.array([1, 3, 5, 7, 2, 4, 6, 8])\n",
    "\n",
    "print(array2.reshape(2,2,2))"
   ]
  }
 ],
 "metadata": {
  "kernelspec": {
   "display_name": "Python 3",
   "language": "python",
   "name": "python3"
  },
  "language_info": {
   "codemirror_mode": {
    "name": "ipython",
    "version": 3
   },
   "file_extension": ".py",
   "mimetype": "text/x-python",
   "name": "python",
   "nbconvert_exporter": "python",
   "pygments_lexer": "ipython3",
   "version": "3.12.2"
  }
 },
 "nbformat": 4,
 "nbformat_minor": 5
}
