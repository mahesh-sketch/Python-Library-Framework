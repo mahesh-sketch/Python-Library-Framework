{
 "cells": [
  {
   "cell_type": "code",
   "execution_count": 1,
   "id": "e728aa9b",
   "metadata": {},
   "outputs": [],
   "source": [
    "import numpy as np"
   ]
  },
  {
   "cell_type": "markdown",
   "id": "3a9f4f1c",
   "metadata": {},
   "source": [
    "# Create a 2-D NumPy Array\n"
   ]
  },
  {
   "cell_type": "code",
   "execution_count": null,
   "id": "5d71b4e7",
   "metadata": {},
   "outputs": [
    {
     "name": "stdout",
     "output_type": "stream",
     "text": [
      "[[1 2 3 4]\n",
      " [5 6 7 8]]\n"
     ]
    }
   ],
   "source": [
    "# create a 2D array with 2 rows and 4 columns\n",
    "array1 = np.array([[1,2,3,4],[5,6,7,8,]])\n",
    "print(array1)"
   ]
  },
  {
   "cell_type": "markdown",
   "id": "830321fa",
   "metadata": {},
   "source": [
    "# Create a 3-D NumPy Array"
   ]
  },
  {
   "cell_type": "code",
   "execution_count": 3,
   "id": "120eba07",
   "metadata": {},
   "outputs": [
    {
     "name": "stdout",
     "output_type": "stream",
     "text": [
      "[[[ 1  2  3  4]\n",
      "  [ 5  6  7  8]\n",
      "  [ 9 10 11 12]]\n",
      "\n",
      " [[13 14 15 16]\n",
      "  [17 18 19 20]\n",
      "  [21 22 23 24]]]\n"
     ]
    }
   ],
   "source": [
    "# create a 3D array with 2 \"slices\", each of 3 rows and 4 columns\n",
    "array2 = np.array([[[1, 2, 3, 4],\n",
    "                [5, 6, 7, 8], \n",
    "                [9, 10, 11, 12]],\n",
    "                     \n",
    "                [[13, 14, 15, 16], \n",
    "                 [17, 18, 19, 20], \n",
    "                 [21, 22, 23, 24]]])\n",
    "\n",
    "print(array2)"
   ]
  },
  {
   "cell_type": "markdown",
   "id": "8cd4cae1",
   "metadata": {},
   "source": [
    "# Create N-D Arrays using np.zeros()"
   ]
  },
  {
   "cell_type": "code",
   "execution_count": 6,
   "id": "471a6e10",
   "metadata": {},
   "outputs": [
    {
     "name": "stdout",
     "output_type": "stream",
     "text": [
      "[[0. 0. 0.]\n",
      " [0. 0. 0.]]\n",
      "[[[0. 0. 0. 0.]\n",
      "  [0. 0. 0. 0.]\n",
      "  [0. 0. 0. 0.]]\n",
      "\n",
      " [[0. 0. 0. 0.]\n",
      "  [0. 0. 0. 0.]\n",
      "  [0. 0. 0. 0.]]]\n"
     ]
    }
   ],
   "source": [
    "# create 2D array with 2 rows and 3 columns filled with zeros\n",
    "array3 = np.zeros((2,3))\n",
    "print(array3)\n",
    "\n",
    "# create 3D array with 2 rows and 3 columns filled with zeros\n",
    "array4 = np.zeros((2,3,4))\n",
    "print(array4)"
   ]
  },
  {
   "cell_type": "markdown",
   "id": "f7020869",
   "metadata": {},
   "source": [
    "# Create N-D Array with a Specified Value"
   ]
  },
  {
   "cell_type": "code",
   "execution_count": 7,
   "id": "647cd27c",
   "metadata": {},
   "outputs": [
    {
     "name": "stdout",
     "output_type": "stream",
     "text": [
      "[[5 5]\n",
      " [5 5]]\n"
     ]
    }
   ],
   "source": [
    "# Create a 2-D array with elements initialized to 5 \n",
    "array5 = np.full((2,2),5)\n",
    "print(array5)"
   ]
  },
  {
   "cell_type": "markdown",
   "id": "d7c8a962",
   "metadata": {},
   "source": [
    "# Creating Arrays With np.random.rand()"
   ]
  },
  {
   "cell_type": "code",
   "execution_count": 10,
   "id": "d66ee062",
   "metadata": {},
   "outputs": [
    {
     "name": "stdout",
     "output_type": "stream",
     "text": [
      "[[0.85895052 0.33384899]\n",
      " [0.12089839 0.88761697]]\n",
      "\n",
      "3-D array: \n",
      "[[[0.86247725 0.84965179]\n",
      "  [0.3768684  0.52605477]]\n",
      "\n",
      " [[0.82639935 0.0064576 ]\n",
      "  [0.78170894 0.97146981]]]\n"
     ]
    }
   ],
   "source": [
    "# Create a 2D array of 2 rows and 2 columns of random numbers\n",
    "array6 = np.random.rand(2,2)\n",
    "print(array6)\n",
    "\n",
    "# create a 3D array of shape (2, 2, 2) of random numbers\n",
    "array7 = np.random.rand(2, 2, 2)\n",
    "print(\"\\n3-D array: \")\n",
    "print(array7)"
   ]
  },
  {
   "cell_type": "markdown",
   "id": "212707a8",
   "metadata": {},
   "source": [
    "# Create Empty N-D NumPy Array"
   ]
  },
  {
   "cell_type": "code",
   "execution_count": 11,
   "id": "6260a622",
   "metadata": {},
   "outputs": [
    {
     "name": "stdout",
     "output_type": "stream",
     "text": [
      "[[0.85895052 0.33384899]\n",
      " [0.12089839 0.88761697]]\n"
     ]
    }
   ],
   "source": [
    "# create an empty 2D array with 2 rows and 2 columns\n",
    "array8 = np.empty((2,2))\n",
    "print(array8)"
   ]
  },
  {
   "cell_type": "markdown",
   "id": "c953199d",
   "metadata": {},
   "source": [
    "We used the np.empty() function to create an empty 2-D array and a 3-D array respectively.\n",
    "\n",
    "If we look into the output of the code, we can see the empty array is actually not empty, it has some values in it.\n",
    "\n",
    "It is because although we are creating an empty array, NumPy will try to add some value to it. The values stored in the array are arbitrary and have no significance value."
   ]
  }
 ],
 "metadata": {
  "kernelspec": {
   "display_name": "Python 3",
   "language": "python",
   "name": "python3"
  },
  "language_info": {
   "codemirror_mode": {
    "name": "ipython",
    "version": 3
   },
   "file_extension": ".py",
   "mimetype": "text/x-python",
   "name": "python",
   "nbconvert_exporter": "python",
   "pygments_lexer": "ipython3",
   "version": "3.12.2"
  }
 },
 "nbformat": 4,
 "nbformat_minor": 5
}
