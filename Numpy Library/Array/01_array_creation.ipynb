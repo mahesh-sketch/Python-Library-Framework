{
 "cells": [
  {
   "cell_type": "code",
   "execution_count": 1,
   "id": "5461afca",
   "metadata": {},
   "outputs": [],
   "source": [
    "import numpy as np"
   ]
  },
  {
   "cell_type": "markdown",
   "id": "8fcb2fcc",
   "metadata": {},
   "source": [
    "# Create Array Using Python List"
   ]
  },
  {
   "cell_type": "code",
   "execution_count": null,
   "id": "ff1b6e11",
   "metadata": {},
   "outputs": [
    {
     "name": "stdout",
     "output_type": "stream",
     "text": [
      "[2 4 6 8]\n",
      "[ 5  6  7 10]\n"
     ]
    }
   ],
   "source": [
    "# Create a list named list1\n",
    "list1 = [2,4,6,8]\n",
    "# create numpy array using list1\n",
    "array1 = np.array(list1)\n",
    "\n",
    "print(array1)\n",
    "\n",
    "array2 = np.array([5,6,7,10])\n",
    "print(array2)"
   ]
  },
  {
   "cell_type": "markdown",
   "id": "53ac346c",
   "metadata": {},
   "source": [
    "# Create an Array Using np.zeros() and np.ones()"
   ]
  },
  {
   "cell_type": "code",
   "execution_count": null,
   "id": "0d1436e3",
   "metadata": {},
   "outputs": [
    {
     "name": "stdout",
     "output_type": "stream",
     "text": [
      "[0. 0. 0. 0.]\n",
      "[1. 1. 1. 1. 1.]\n"
     ]
    }
   ],
   "source": [
    "# create an array with 4 elements filled with zeros\n",
    "array3 = np.zeros(4)\n",
    "print(array3)\n",
    "\n",
    "# create an array with 4 elements filled with ones\n",
    "array4 = np.ones(5)\n",
    "print(array4)"
   ]
  },
  {
   "cell_type": "markdown",
   "id": "d3c759b5",
   "metadata": {},
   "source": [
    "# Create an Array With np.arange()"
   ]
  },
  {
   "cell_type": "code",
   "execution_count": null,
   "id": "faf932ca",
   "metadata": {},
   "outputs": [
    {
     "name": "stdout",
     "output_type": "stream",
     "text": [
      "[0 1 2 3 4]\n"
     ]
    }
   ],
   "source": [
    "# create an array with values from 0 to 4\n",
    "array5 = np.arange(5)\n",
    "print(array5)"
   ]
  },
  {
   "cell_type": "markdown",
   "id": "a958be16",
   "metadata": {},
   "source": [
    "# Create an Array With np.random.rand()"
   ]
  },
  {
   "cell_type": "code",
   "execution_count": null,
   "id": "9417da1d",
   "metadata": {},
   "outputs": [
    {
     "name": "stdout",
     "output_type": "stream",
     "text": [
      "[0.2829593  0.14559709 0.91453466 0.62221149 0.29971873]\n"
     ]
    }
   ],
   "source": [
    "# generate an array of 5 random numbers\n",
    "array6 = np.random.rand(5)\n",
    "print(array6)"
   ]
  },
  {
   "cell_type": "markdown",
   "id": "98012284",
   "metadata": {},
   "source": [
    "# Create an Empty NumPy Array"
   ]
  },
  {
   "cell_type": "code",
   "execution_count": null,
   "id": "e5e69ebb",
   "metadata": {},
   "outputs": [
    {
     "name": "stdout",
     "output_type": "stream",
     "text": [
      "[0. 0. 0. 0.]\n"
     ]
    }
   ],
   "source": [
    "# create an empty array of length 4\n",
    "array7 = np.empty(4)\n",
    "print(array7)"
   ]
  }
 ],
 "metadata": {
  "kernelspec": {
   "display_name": "Python 3",
   "language": "python",
   "name": "python3"
  },
  "language_info": {
   "codemirror_mode": {
    "name": "ipython",
    "version": 3
   },
   "file_extension": ".py",
   "mimetype": "text/x-python",
   "name": "python",
   "nbconvert_exporter": "python",
   "pygments_lexer": "ipython3",
   "version": "3.12.2"
  }
 },
 "nbformat": 4,
 "nbformat_minor": 5
}
